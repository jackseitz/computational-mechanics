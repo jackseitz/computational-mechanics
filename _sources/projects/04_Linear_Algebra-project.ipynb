{
 "cells": [
  {
   "cell_type": "markdown",
   "id": "e5e0b2dd",
   "metadata": {},
   "source": [
    "# CompMech04-Linear Algebra Project\n",
    "## Practical Linear Algebra for Finite Element Analysis"
   ]
  },
  {
   "cell_type": "markdown",
   "id": "83030c19",
   "metadata": {},
   "source": [
    "In this project we will perform a linear-elastic finite element analysis (FEA) on a support structure made of 11 beams that are riveted in 7 locations to create a truss as shown in the image below. \n",
    "\n",
    "![Mesh image of truss](../images/mesh.png)"
   ]
  },
  {
   "cell_type": "markdown",
   "id": "6e738f12",
   "metadata": {},
   "source": [
    "The triangular truss shown above can be modeled using a [direct stiffness method [1]](https://en.wikipedia.org/wiki/Direct_stiffness_method), that is detailed in the [extra-FEA_material](./extra-FEA_material.ipynb) notebook. The end result of converting this structure to a FE model. Is that each joint, labeled $n~1-7$, short for _node 1-7_ can move in the x- and y-directions, but causes a force modeled with Hooke's law. Each beam labeled $el~1-11$, short for _element 1-11_, contributes to the stiffness of the structure. We have 14 equations where the sum of the components of forces = 0, represented by the equation\n",
    "\n",
    "$\\mathbf{F-Ku}=\\mathbf{0}$\n",
    "\n",
    "Where, $\\mathbf{F}$ are externally applied forces, $\\mathbf{u}$ are x- and y- displacements of nodes, and $\\mathbf{K}$ is the stiffness matrix given in `fea_arrays.npz` as `K`, shown below\n",
    "\n",
    "_note: the array shown is 1000x(`K`). You can use units of MPa (N/mm^2), N, and mm. The array `K` is in 1/mm_\n",
    "\n",
    "$\\mathbf{K}=EA*$\n",
    "\n",
    "$  \\left[ \\begin{array}{cccccccccccccc}\n",
    " 4.2 & 1.4 & -0.8 & -1.4 & -3.3 & 0.0 & 0.0 & 0.0 & 0.0 & 0.0 & 0.0 & 0.0 & 0.0 & 0.0 \\\\\n",
    " 1.4 & 2.5 & -1.4 & -2.5 & 0.0 & 0.0 & 0.0 & 0.0 & 0.0 & 0.0 & 0.0 & 0.0 & 0.0 & 0.0 \\\\\n",
    " -0.8 & -1.4 & 5.0 & 0.0 & -0.8 & 1.4 & -3.3 & 0.0 & 0.0 & 0.0 & 0.0 & 0.0 & 0.0 & 0.0 \\\\\n",
    " -1.4 & -2.5 & 0.0 & 5.0 & 1.4 & -2.5 & 0.0 & 0.0 & 0.0 & 0.0 & 0.0 & 0.0 & 0.0 & 0.0 \\\\\n",
    " -3.3 & 0.0 & -0.8 & 1.4 & 8.3 & 0.0 & -0.8 & -1.4 & -3.3 & 0.0 & 0.0 & 0.0 & 0.0 & 0.0 \\\\\n",
    " 0.0 & 0.0 & 1.4 & -2.5 & 0.0 & 5.0 & -1.4 & -2.5 & 0.0 & 0.0 & 0.0 & 0.0 & 0.0 & 0.0 \\\\\n",
    " 0.0 & 0.0 & -3.3 & 0.0 & -0.8 & -1.4 & 8.3 & 0.0 & -0.8 & 1.4 & -3.3 & 0.0 & 0.0 & 0.0 \\\\\n",
    " 0.0 & 0.0 & 0.0 & 0.0 & -1.4 & -2.5 & 0.0 & 5.0 & 1.4 & -2.5 & 0.0 & 0.0 & 0.0 & 0.0 \\\\\n",
    " 0.0 & 0.0 & 0.0 & 0.0 & -3.3 & 0.0 & -0.8 & 1.4 & 8.3 & 0.0 & -0.8 & -1.4 & -3.3 & 0.0 \\\\\n",
    " 0.0 & 0.0 & 0.0 & 0.0 & 0.0 & 0.0 & 1.4 & -2.5 & 0.0 & 5.0 & -1.4 & -2.5 & 0.0 & 0.0 \\\\\n",
    " 0.0 & 0.0 & 0.0 & 0.0 & 0.0 & 0.0 & -3.3 & 0.0 & -0.8 & -1.4 & 5.0 & 0.0 & -0.8 & 1.4 \\\\\n",
    " 0.0 & 0.0 & 0.0 & 0.0 & 0.0 & 0.0 & 0.0 & 0.0 & -1.4 & -2.5 & 0.0 & 5.0 & 1.4 & -2.5 \\\\\n",
    " 0.0 & 0.0 & 0.0 & 0.0 & 0.0 & 0.0 & 0.0 & 0.0 & -3.3 & 0.0 & -0.8 & 1.4 & 4.2 & -1.4 \\\\\n",
    " 0.0 & 0.0 & 0.0 & 0.0 & 0.0 & 0.0 & 0.0 & 0.0 & 0.0 & 0.0 & 1.4 & -2.5 & -1.4 & 2.5 \\\\\n",
    "\\end{array}\\right]~\\frac{1}{m}$"
   ]
  },
  {
   "cell_type": "code",
   "execution_count": 1,
   "id": "c399b780",
   "metadata": {},
   "outputs": [],
   "source": [
    "import numpy as np\n",
    "import matplotlib.pyplot as plt\n",
    "import scipy.linalg as la\n",
    "plt.style.use('fivethirtyeight')"
   ]
  },
  {
   "cell_type": "code",
   "execution_count": 2,
   "id": "2555de7b",
   "metadata": {},
   "outputs": [
    {
     "data": {
      "text/plain": [
       "array([[ 0.00416667,  0.00144338, -0.00083333, -0.00144338, -0.00333333,\n",
       "         0.        ,  0.        ,  0.        ,  0.        ,  0.        ,\n",
       "         0.        ,  0.        ,  0.        ,  0.        ],\n",
       "       [ 0.00144338,  0.0025    , -0.00144338, -0.0025    ,  0.        ,\n",
       "         0.        ,  0.        ,  0.        ,  0.        ,  0.        ,\n",
       "         0.        ,  0.        ,  0.        ,  0.        ],\n",
       "       [-0.00083333, -0.00144338,  0.005     ,  0.        , -0.00083333,\n",
       "         0.00144338, -0.00333333,  0.        ,  0.        ,  0.        ,\n",
       "         0.        ,  0.        ,  0.        ,  0.        ],\n",
       "       [-0.00144338, -0.0025    ,  0.        ,  0.005     ,  0.00144338,\n",
       "        -0.0025    ,  0.        ,  0.        ,  0.        ,  0.        ,\n",
       "         0.        ,  0.        ,  0.        ,  0.        ],\n",
       "       [-0.00333333,  0.        , -0.00083333,  0.00144338,  0.00833333,\n",
       "         0.        , -0.00083333, -0.00144338, -0.00333333,  0.        ,\n",
       "         0.        ,  0.        ,  0.        ,  0.        ],\n",
       "       [ 0.        ,  0.        ,  0.00144338, -0.0025    ,  0.        ,\n",
       "         0.005     , -0.00144338, -0.0025    ,  0.        ,  0.        ,\n",
       "         0.        ,  0.        ,  0.        ,  0.        ],\n",
       "       [ 0.        ,  0.        , -0.00333333,  0.        , -0.00083333,\n",
       "        -0.00144338,  0.00833333,  0.        , -0.00083333,  0.00144338,\n",
       "        -0.00333333,  0.        ,  0.        ,  0.        ],\n",
       "       [ 0.        ,  0.        ,  0.        ,  0.        , -0.00144338,\n",
       "        -0.0025    ,  0.        ,  0.005     ,  0.00144338, -0.0025    ,\n",
       "         0.        ,  0.        ,  0.        ,  0.        ],\n",
       "       [ 0.        ,  0.        ,  0.        ,  0.        , -0.00333333,\n",
       "         0.        , -0.00083333,  0.00144338,  0.00833333,  0.        ,\n",
       "        -0.00083333, -0.00144338, -0.00333333,  0.        ],\n",
       "       [ 0.        ,  0.        ,  0.        ,  0.        ,  0.        ,\n",
       "         0.        ,  0.00144338, -0.0025    ,  0.        ,  0.005     ,\n",
       "        -0.00144338, -0.0025    ,  0.        ,  0.        ],\n",
       "       [ 0.        ,  0.        ,  0.        ,  0.        ,  0.        ,\n",
       "         0.        , -0.00333333,  0.        , -0.00083333, -0.00144338,\n",
       "         0.005     ,  0.        , -0.00083333,  0.00144338],\n",
       "       [ 0.        ,  0.        ,  0.        ,  0.        ,  0.        ,\n",
       "         0.        ,  0.        ,  0.        , -0.00144338, -0.0025    ,\n",
       "         0.        ,  0.005     ,  0.00144338, -0.0025    ],\n",
       "       [ 0.        ,  0.        ,  0.        ,  0.        ,  0.        ,\n",
       "         0.        ,  0.        ,  0.        , -0.00333333,  0.        ,\n",
       "        -0.00083333,  0.00144338,  0.00416667, -0.00144338],\n",
       "       [ 0.        ,  0.        ,  0.        ,  0.        ,  0.        ,\n",
       "         0.        ,  0.        ,  0.        ,  0.        ,  0.        ,\n",
       "         0.00144338, -0.0025    , -0.00144338,  0.0025    ]])"
      ]
     },
     "execution_count": 2,
     "metadata": {},
     "output_type": "execute_result"
    }
   ],
   "source": [
    "fea_arrays = np.load('./fea_arrays.npz')\n",
    "K=fea_arrays['K']\n",
    "K"
   ]
  },
  {
   "cell_type": "markdown",
   "id": "bb4a6f12",
   "metadata": {},
   "source": [
    "In this project we are solving the problem, $\\mathbf{F}=\\mathbf{Ku}$, where $\\mathbf{F}$ is measured in Newtons, $\\mathbf{K}$ `=E*A*K` is the stiffness in N/mm, `E` is Young's modulus measured in MPa (N/mm^2), and `A` is the cross-sectional area of the beam measured in mm^2. \n",
    "\n",
    "There are three constraints on the motion of the joints:\n",
    "\n",
    "i. node 1 displacement in the x-direction is 0 = `u[0]`\n",
    "\n",
    "ii. node 1 displacement in the y-direction is 0 = `u[1]`\n",
    "\n",
    "iii. node 7 displacement in the y-direction is 0 = `u[13]`\n",
    "\n",
    "We can satisfy these constraints by leaving out the first, second, and last rows and columns from our linear algebra description."
   ]
  },
  {
   "cell_type": "markdown",
   "id": "f69c3632",
   "metadata": {},
   "source": [
    "### 1. Calculate the condition of `K` and the condition of `K[2:13,2:13]`. \n",
    "\n",
    "a. What error would you expect when you solve for `u` in `K*u = F`? \n",
    "\n",
    "b. Why is the condition of `K` so large? __The problem is underconstrained. It describes stiffness of structure, but not the BC's. So, we end up with sumF=0 and -sumF=0__\n",
    "\n",
    "c. What error would you expect when you solve for `u[2:13]` in `K[2:13,2:13]*u=F[2:13]`"
   ]
  },
  {
   "cell_type": "code",
   "execution_count": 3,
   "id": "4085425a",
   "metadata": {},
   "outputs": [
    {
     "name": "stdout",
     "output_type": "stream",
     "text": [
      "2.8320722452786877e+17\n",
      "52.235425143510014\n",
      "expected error in x=solve(K,b) is 1\n",
      "expected error in x=solve(K[2:13,2:13],b) is 1e-14\n"
     ]
    },
    {
     "data": {
      "text/plain": [
       "'The condition number is most likely so large due to the matrix being ill-conditioned, leading to numerical instability and large error values.'"
      ]
     },
     "execution_count": 3,
     "metadata": {},
     "output_type": "execute_result"
    }
   ],
   "source": [
    "print(np.linalg.cond(K))\n",
    "print(np.linalg.cond(K[2:13,2:13]))\n",
    "\n",
    "print('expected error in x=solve(K,b) is {}'.format(10**(16-16)))\n",
    "print('expected error in x=solve(K[2:13,2:13],b) is {}'.format(10**(2-16)))\n",
    "\n",
    "'''The condition number is most likely so large due to the matrix being ill-conditioned, leading to numerical instability and large error values.'''"
   ]
  },
  {
   "cell_type": "markdown",
   "id": "52ebf552",
   "metadata": {},
   "source": [
    "### 2. Apply a 300-N downward force to the central top node (n 4)\n",
    "\n",
    "a. Create the LU matrix for K[2:13,2:13]\n",
    "\n",
    "b. Use cross-sectional area of $0.1~mm^2$ and steel and almuminum moduli, $E=200~GPa~and~E=70~GPa,$ respectively. Solve the forward and backward substitution methods for \n",
    "\n",
    "* $\\mathbf{Ly}=\\mathbf{F}\\frac{1}{EA}$\n",
    "\n",
    "* $\\mathbf{Uu}=\\mathbf{y}$\n",
    "\n",
    "_your array `F` is zeros, except for `F[5]=-300`, to create a -300 N load at node 4._\n",
    "\n",
    "c. Plug in the values for $\\mathbf{u}$ into the full equation, $\\mathbf{Ku}=\\mathbf{F}$, to solve for the reaction forces\n",
    "\n",
    "d. Create a plot of the undeformed and deformed structure with the displacements and forces plotted as vectors (via `quiver`). Your result for aluminum should match the following result from [extra-FEA_material](./extra-FEA_material.ipynb). _note: The scale factor is applied to displacements $\\mathbf{u}$, not forces._\n",
    "\n",
    "> __Note__: Look at the [extra FEA material](./extra-FEA_material). It\n",
    "> has example code that you can plug in here to make these plots.\n",
    "> Including background information and the source code for this plot\n",
    "> below.\n",
    "\n",
    "\n",
    "![Deformed structure with loads applied](../images/deformed_truss.png)"
   ]
  },
  {
   "cell_type": "code",
   "execution_count": 4,
   "id": "f04b42d5",
   "metadata": {},
   "outputs": [],
   "source": [
    "#Part a\n",
    "E_steel = 200e9 \n",
    "E_aluminum = 70e9\n",
    "A = 0.1e-6\n",
    "\n",
    "K_reduced = K[2:13, 2:13]\n",
    "P, L, U = la.lu(K_reduced)"
   ]
  },
  {
   "cell_type": "code",
   "execution_count": 5,
   "id": "5c72d6a8",
   "metadata": {},
   "outputs": [
    {
     "name": "stdout",
     "output_type": "stream",
     "text": [
      "Displacements (m): \n",
      "[[ 16.49572198]\n",
      " [-20.95238095]\n",
      " [  4.94871659]\n",
      " [-39.04761905]\n",
      " [  6.59828879]\n",
      " [-34.28571429]\n",
      " [ 12.37179148]\n",
      " [-25.23809524]\n",
      " [  1.6495722 ]\n",
      " [-13.33333333]\n",
      " [ 14.84614978]]\n"
     ]
    }
   ],
   "source": [
    "#Part b\n",
    "F = np.zeros((14, 1))\n",
    "F[5] = -300  \n",
    "\n",
    "# Solve for displacements\n",
    "y_aluminum = la.solve(U, la.solve(L, P.T @ F[2:13]) / (E_aluminum * A))\n",
    "\n",
    "print(\"Displacements (m): \")\n",
    "print(y_aluminum)"
   ]
  },
  {
   "cell_type": "code",
   "execution_count": 6,
   "id": "77c8b0f1",
   "metadata": {},
   "outputs": [
    {
     "name": "stdout",
     "output_type": "stream",
     "text": [
      "Reaction forces: \n",
      "[[-1.73472348e-17]\n",
      " [ 2.85714286e-02]\n",
      " [ 0.00000000e+00]\n",
      " [-9.54097912e-18]\n",
      " [-3.46944695e-18]\n",
      " [-4.28571429e-02]\n",
      " [ 0.00000000e+00]\n",
      " [ 1.38777878e-17]\n",
      " [ 0.00000000e+00]\n",
      " [-3.20923843e-17]\n",
      " [ 1.73472348e-18]\n",
      " [ 1.04083409e-17]\n",
      " [-6.93889390e-18]\n",
      " [ 1.42857143e-02]]\n"
     ]
    }
   ],
   "source": [
    "#Part c\n",
    "u_full = np.zeros_like(F)\n",
    "u_full[2:13] = y_aluminum\n",
    "\n",
    "#Calculate reaction forces\n",
    "reaction_forces_aluminum = K @ u_full\n",
    "\n",
    "print(\"Reaction forces: \")\n",
    "print(reaction_forces_aluminum) "
   ]
  },
  {
   "cell_type": "code",
   "execution_count": 7,
   "id": "b4b3d009",
   "metadata": {},
   "outputs": [
    {
     "ename": "ValueError",
     "evalue": "setting an array element with a sequence. The requested array has an inhomogeneous shape after 1 dimensions. The detected shape was (2,) + inhomogeneous part.",
     "output_type": "error",
     "traceback": [
      "\u001b[0;31m---------------------------------------------------------------------------\u001b[0m",
      "\u001b[0;31mValueError\u001b[0m                                Traceback (most recent call last)",
      "Cell \u001b[0;32mIn[7], line 18\u001b[0m\n\u001b[1;32m     15\u001b[0m deformation_scale \u001b[38;5;241m=\u001b[39m \u001b[38;5;241m5.0\u001b[39m  \u001b[38;5;66;03m# Scale factor for displacements\u001b[39;00m\n\u001b[1;32m     16\u001b[0m \u001b[38;5;28;01mfor\u001b[39;00m i \u001b[38;5;129;01min\u001b[39;00m \u001b[38;5;28mrange\u001b[39m(\u001b[38;5;241m2\u001b[39m, \u001b[38;5;241m13\u001b[39m):\n\u001b[1;32m     17\u001b[0m     \u001b[38;5;66;03m# Plot the deformed positions of the nodes\u001b[39;00m\n\u001b[0;32m---> 18\u001b[0m     \u001b[43mplt\u001b[49m\u001b[38;5;241;43m.\u001b[39;49m\u001b[43mplot\u001b[49m\u001b[43m(\u001b[49m\n\u001b[1;32m     19\u001b[0m \u001b[43m        \u001b[49m\u001b[43m[\u001b[49m\u001b[43mnode_positions\u001b[49m\u001b[43m[\u001b[49m\u001b[43mi\u001b[49m\u001b[38;5;241;43m-\u001b[39;49m\u001b[38;5;241;43m2\u001b[39;49m\u001b[43m,\u001b[49m\u001b[43m \u001b[49m\u001b[38;5;241;43m0\u001b[39;49m\u001b[43m]\u001b[49m\u001b[43m,\u001b[49m\u001b[43m \u001b[49m\u001b[43mnode_positions\u001b[49m\u001b[43m[\u001b[49m\u001b[43mi\u001b[49m\u001b[38;5;241;43m-\u001b[39;49m\u001b[38;5;241;43m2\u001b[39;49m\u001b[43m,\u001b[49m\u001b[43m \u001b[49m\u001b[38;5;241;43m0\u001b[39;49m\u001b[43m]\u001b[49m\u001b[43m \u001b[49m\u001b[38;5;241;43m+\u001b[39;49m\u001b[43m \u001b[49m\u001b[43mdeformation_scale\u001b[49m\u001b[43m \u001b[49m\u001b[38;5;241;43m*\u001b[39;49m\u001b[43m \u001b[49m\u001b[43mu_aluminum\u001b[49m\u001b[43m[\u001b[49m\u001b[43mi\u001b[49m\u001b[43m]\u001b[49m\u001b[43m]\u001b[49m\u001b[43m,\u001b[49m\n\u001b[1;32m     20\u001b[0m \u001b[43m        \u001b[49m\u001b[43m[\u001b[49m\u001b[43mnode_positions\u001b[49m\u001b[43m[\u001b[49m\u001b[43mi\u001b[49m\u001b[38;5;241;43m-\u001b[39;49m\u001b[38;5;241;43m2\u001b[39;49m\u001b[43m,\u001b[49m\u001b[43m \u001b[49m\u001b[38;5;241;43m1\u001b[39;49m\u001b[43m]\u001b[49m\u001b[43m,\u001b[49m\u001b[43m \u001b[49m\u001b[43mnode_positions\u001b[49m\u001b[43m[\u001b[49m\u001b[43mi\u001b[49m\u001b[38;5;241;43m-\u001b[39;49m\u001b[38;5;241;43m2\u001b[39;49m\u001b[43m,\u001b[49m\u001b[43m \u001b[49m\u001b[38;5;241;43m1\u001b[39;49m\u001b[43m]\u001b[49m\u001b[43m \u001b[49m\u001b[38;5;241;43m+\u001b[39;49m\u001b[43m \u001b[49m\u001b[43mdeformation_scale\u001b[49m\u001b[43m \u001b[49m\u001b[38;5;241;43m*\u001b[39;49m\u001b[43m \u001b[49m\u001b[43mu_aluminum\u001b[49m\u001b[43m[\u001b[49m\u001b[43mi\u001b[49m\u001b[38;5;241;43m+\u001b[39;49m\u001b[38;5;241;43m1\u001b[39;49m\u001b[43m]\u001b[49m\u001b[43m]\u001b[49m\u001b[43m,\u001b[49m\n\u001b[1;32m     21\u001b[0m \u001b[43m        \u001b[49m\u001b[38;5;124;43m'\u001b[39;49m\u001b[38;5;124;43mb-\u001b[39;49m\u001b[38;5;124;43m'\u001b[39;49m\n\u001b[1;32m     22\u001b[0m \u001b[43m    \u001b[49m\u001b[43m)\u001b[49m\n\u001b[1;32m     24\u001b[0m \u001b[38;5;66;03m# Plot the reaction forces as vectors\u001b[39;00m\n\u001b[1;32m     25\u001b[0m \u001b[38;5;28;01mfor\u001b[39;00m i \u001b[38;5;129;01min\u001b[39;00m \u001b[38;5;28mrange\u001b[39m(\u001b[38;5;241m2\u001b[39m, \u001b[38;5;241m13\u001b[39m):\n",
      "File \u001b[0;32m/opt/hostedtoolcache/Python/3.9.18/x64/lib/python3.9/site-packages/matplotlib/pyplot.py:3575\u001b[0m, in \u001b[0;36mplot\u001b[0;34m(scalex, scaley, data, *args, **kwargs)\u001b[0m\n\u001b[1;32m   3567\u001b[0m \u001b[38;5;129m@_copy_docstring_and_deprecators\u001b[39m(Axes\u001b[38;5;241m.\u001b[39mplot)\n\u001b[1;32m   3568\u001b[0m \u001b[38;5;28;01mdef\u001b[39;00m \u001b[38;5;21mplot\u001b[39m(\n\u001b[1;32m   3569\u001b[0m     \u001b[38;5;241m*\u001b[39margs: \u001b[38;5;28mfloat\u001b[39m \u001b[38;5;241m|\u001b[39m ArrayLike \u001b[38;5;241m|\u001b[39m \u001b[38;5;28mstr\u001b[39m,\n\u001b[0;32m   (...)\u001b[0m\n\u001b[1;32m   3573\u001b[0m     \u001b[38;5;241m*\u001b[39m\u001b[38;5;241m*\u001b[39mkwargs,\n\u001b[1;32m   3574\u001b[0m ) \u001b[38;5;241m-\u001b[39m\u001b[38;5;241m>\u001b[39m \u001b[38;5;28mlist\u001b[39m[Line2D]:\n\u001b[0;32m-> 3575\u001b[0m     \u001b[38;5;28;01mreturn\u001b[39;00m \u001b[43mgca\u001b[49m\u001b[43m(\u001b[49m\u001b[43m)\u001b[49m\u001b[38;5;241;43m.\u001b[39;49m\u001b[43mplot\u001b[49m\u001b[43m(\u001b[49m\n\u001b[1;32m   3576\u001b[0m \u001b[43m        \u001b[49m\u001b[38;5;241;43m*\u001b[39;49m\u001b[43margs\u001b[49m\u001b[43m,\u001b[49m\n\u001b[1;32m   3577\u001b[0m \u001b[43m        \u001b[49m\u001b[43mscalex\u001b[49m\u001b[38;5;241;43m=\u001b[39;49m\u001b[43mscalex\u001b[49m\u001b[43m,\u001b[49m\n\u001b[1;32m   3578\u001b[0m \u001b[43m        \u001b[49m\u001b[43mscaley\u001b[49m\u001b[38;5;241;43m=\u001b[39;49m\u001b[43mscaley\u001b[49m\u001b[43m,\u001b[49m\n\u001b[1;32m   3579\u001b[0m \u001b[43m        \u001b[49m\u001b[38;5;241;43m*\u001b[39;49m\u001b[38;5;241;43m*\u001b[39;49m\u001b[43m(\u001b[49m\u001b[43m{\u001b[49m\u001b[38;5;124;43m\"\u001b[39;49m\u001b[38;5;124;43mdata\u001b[39;49m\u001b[38;5;124;43m\"\u001b[39;49m\u001b[43m:\u001b[49m\u001b[43m \u001b[49m\u001b[43mdata\u001b[49m\u001b[43m}\u001b[49m\u001b[43m \u001b[49m\u001b[38;5;28;43;01mif\u001b[39;49;00m\u001b[43m \u001b[49m\u001b[43mdata\u001b[49m\u001b[43m \u001b[49m\u001b[38;5;129;43;01mis\u001b[39;49;00m\u001b[43m \u001b[49m\u001b[38;5;129;43;01mnot\u001b[39;49;00m\u001b[43m \u001b[49m\u001b[38;5;28;43;01mNone\u001b[39;49;00m\u001b[43m \u001b[49m\u001b[38;5;28;43;01melse\u001b[39;49;00m\u001b[43m \u001b[49m\u001b[43m{\u001b[49m\u001b[43m}\u001b[49m\u001b[43m)\u001b[49m\u001b[43m,\u001b[49m\n\u001b[1;32m   3580\u001b[0m \u001b[43m        \u001b[49m\u001b[38;5;241;43m*\u001b[39;49m\u001b[38;5;241;43m*\u001b[39;49m\u001b[43mkwargs\u001b[49m\u001b[43m,\u001b[49m\n\u001b[1;32m   3581\u001b[0m \u001b[43m    \u001b[49m\u001b[43m)\u001b[49m\n",
      "File \u001b[0;32m/opt/hostedtoolcache/Python/3.9.18/x64/lib/python3.9/site-packages/matplotlib/axes/_axes.py:1721\u001b[0m, in \u001b[0;36mAxes.plot\u001b[0;34m(self, scalex, scaley, data, *args, **kwargs)\u001b[0m\n\u001b[1;32m   1478\u001b[0m \u001b[38;5;250m\u001b[39m\u001b[38;5;124;03m\"\"\"\u001b[39;00m\n\u001b[1;32m   1479\u001b[0m \u001b[38;5;124;03mPlot y versus x as lines and/or markers.\u001b[39;00m\n\u001b[1;32m   1480\u001b[0m \n\u001b[0;32m   (...)\u001b[0m\n\u001b[1;32m   1718\u001b[0m \u001b[38;5;124;03m(``'green'``) or hex strings (``'#008000'``).\u001b[39;00m\n\u001b[1;32m   1719\u001b[0m \u001b[38;5;124;03m\"\"\"\u001b[39;00m\n\u001b[1;32m   1720\u001b[0m kwargs \u001b[38;5;241m=\u001b[39m cbook\u001b[38;5;241m.\u001b[39mnormalize_kwargs(kwargs, mlines\u001b[38;5;241m.\u001b[39mLine2D)\n\u001b[0;32m-> 1721\u001b[0m lines \u001b[38;5;241m=\u001b[39m [\u001b[38;5;241m*\u001b[39m\u001b[38;5;28mself\u001b[39m\u001b[38;5;241m.\u001b[39m_get_lines(\u001b[38;5;28mself\u001b[39m, \u001b[38;5;241m*\u001b[39margs, data\u001b[38;5;241m=\u001b[39mdata, \u001b[38;5;241m*\u001b[39m\u001b[38;5;241m*\u001b[39mkwargs)]\n\u001b[1;32m   1722\u001b[0m \u001b[38;5;28;01mfor\u001b[39;00m line \u001b[38;5;129;01min\u001b[39;00m lines:\n\u001b[1;32m   1723\u001b[0m     \u001b[38;5;28mself\u001b[39m\u001b[38;5;241m.\u001b[39madd_line(line)\n",
      "File \u001b[0;32m/opt/hostedtoolcache/Python/3.9.18/x64/lib/python3.9/site-packages/matplotlib/axes/_base.py:303\u001b[0m, in \u001b[0;36m_process_plot_var_args.__call__\u001b[0;34m(self, axes, data, *args, **kwargs)\u001b[0m\n\u001b[1;32m    301\u001b[0m     this \u001b[38;5;241m+\u001b[39m\u001b[38;5;241m=\u001b[39m args[\u001b[38;5;241m0\u001b[39m],\n\u001b[1;32m    302\u001b[0m     args \u001b[38;5;241m=\u001b[39m args[\u001b[38;5;241m1\u001b[39m:]\n\u001b[0;32m--> 303\u001b[0m \u001b[38;5;28;01myield from\u001b[39;00m \u001b[38;5;28;43mself\u001b[39;49m\u001b[38;5;241;43m.\u001b[39;49m\u001b[43m_plot_args\u001b[49m\u001b[43m(\u001b[49m\n\u001b[1;32m    304\u001b[0m \u001b[43m    \u001b[49m\u001b[43maxes\u001b[49m\u001b[43m,\u001b[49m\u001b[43m \u001b[49m\u001b[43mthis\u001b[49m\u001b[43m,\u001b[49m\u001b[43m \u001b[49m\u001b[43mkwargs\u001b[49m\u001b[43m,\u001b[49m\u001b[43m \u001b[49m\u001b[43mambiguous_fmt_datakey\u001b[49m\u001b[38;5;241;43m=\u001b[39;49m\u001b[43mambiguous_fmt_datakey\u001b[49m\u001b[43m)\u001b[49m\n",
      "File \u001b[0;32m/opt/hostedtoolcache/Python/3.9.18/x64/lib/python3.9/site-packages/matplotlib/axes/_base.py:488\u001b[0m, in \u001b[0;36m_process_plot_var_args._plot_args\u001b[0;34m(self, axes, tup, kwargs, return_kwargs, ambiguous_fmt_datakey)\u001b[0m\n\u001b[1;32m    485\u001b[0m         kw[prop_name] \u001b[38;5;241m=\u001b[39m val\n\u001b[1;32m    487\u001b[0m \u001b[38;5;28;01mif\u001b[39;00m \u001b[38;5;28mlen\u001b[39m(xy) \u001b[38;5;241m==\u001b[39m \u001b[38;5;241m2\u001b[39m:\n\u001b[0;32m--> 488\u001b[0m     x \u001b[38;5;241m=\u001b[39m \u001b[43m_check_1d\u001b[49m\u001b[43m(\u001b[49m\u001b[43mxy\u001b[49m\u001b[43m[\u001b[49m\u001b[38;5;241;43m0\u001b[39;49m\u001b[43m]\u001b[49m\u001b[43m)\u001b[49m\n\u001b[1;32m    489\u001b[0m     y \u001b[38;5;241m=\u001b[39m _check_1d(xy[\u001b[38;5;241m1\u001b[39m])\n\u001b[1;32m    490\u001b[0m \u001b[38;5;28;01melse\u001b[39;00m:\n",
      "File \u001b[0;32m/opt/hostedtoolcache/Python/3.9.18/x64/lib/python3.9/site-packages/matplotlib/cbook.py:1358\u001b[0m, in \u001b[0;36m_check_1d\u001b[0;34m(x)\u001b[0m\n\u001b[1;32m   1352\u001b[0m \u001b[38;5;66;03m# plot requires `shape` and `ndim`.  If passed an\u001b[39;00m\n\u001b[1;32m   1353\u001b[0m \u001b[38;5;66;03m# object that doesn't provide them, then force to numpy array.\u001b[39;00m\n\u001b[1;32m   1354\u001b[0m \u001b[38;5;66;03m# Note this will strip unit information.\u001b[39;00m\n\u001b[1;32m   1355\u001b[0m \u001b[38;5;28;01mif\u001b[39;00m (\u001b[38;5;129;01mnot\u001b[39;00m \u001b[38;5;28mhasattr\u001b[39m(x, \u001b[38;5;124m'\u001b[39m\u001b[38;5;124mshape\u001b[39m\u001b[38;5;124m'\u001b[39m) \u001b[38;5;129;01mor\u001b[39;00m\n\u001b[1;32m   1356\u001b[0m         \u001b[38;5;129;01mnot\u001b[39;00m \u001b[38;5;28mhasattr\u001b[39m(x, \u001b[38;5;124m'\u001b[39m\u001b[38;5;124mndim\u001b[39m\u001b[38;5;124m'\u001b[39m) \u001b[38;5;129;01mor\u001b[39;00m\n\u001b[1;32m   1357\u001b[0m         \u001b[38;5;28mlen\u001b[39m(x\u001b[38;5;241m.\u001b[39mshape) \u001b[38;5;241m<\u001b[39m \u001b[38;5;241m1\u001b[39m):\n\u001b[0;32m-> 1358\u001b[0m     \u001b[38;5;28;01mreturn\u001b[39;00m \u001b[43mnp\u001b[49m\u001b[38;5;241;43m.\u001b[39;49m\u001b[43matleast_1d\u001b[49m\u001b[43m(\u001b[49m\u001b[43mx\u001b[49m\u001b[43m)\u001b[49m\n\u001b[1;32m   1359\u001b[0m \u001b[38;5;28;01melse\u001b[39;00m:\n\u001b[1;32m   1360\u001b[0m     \u001b[38;5;28;01mreturn\u001b[39;00m x\n",
      "File \u001b[0;32m/opt/hostedtoolcache/Python/3.9.18/x64/lib/python3.9/site-packages/numpy/core/shape_base.py:65\u001b[0m, in \u001b[0;36matleast_1d\u001b[0;34m(*arys)\u001b[0m\n\u001b[1;32m     63\u001b[0m res \u001b[38;5;241m=\u001b[39m []\n\u001b[1;32m     64\u001b[0m \u001b[38;5;28;01mfor\u001b[39;00m ary \u001b[38;5;129;01min\u001b[39;00m arys:\n\u001b[0;32m---> 65\u001b[0m     ary \u001b[38;5;241m=\u001b[39m \u001b[43masanyarray\u001b[49m\u001b[43m(\u001b[49m\u001b[43mary\u001b[49m\u001b[43m)\u001b[49m\n\u001b[1;32m     66\u001b[0m     \u001b[38;5;28;01mif\u001b[39;00m ary\u001b[38;5;241m.\u001b[39mndim \u001b[38;5;241m==\u001b[39m \u001b[38;5;241m0\u001b[39m:\n\u001b[1;32m     67\u001b[0m         result \u001b[38;5;241m=\u001b[39m ary\u001b[38;5;241m.\u001b[39mreshape(\u001b[38;5;241m1\u001b[39m)\n",
      "\u001b[0;31mValueError\u001b[0m: setting an array element with a sequence. The requested array has an inhomogeneous shape after 1 dimensions. The detected shape was (2,) + inhomogeneous part."
     ]
    },
    {
     "data": {
      "image/png": "[encoded data removed]",
      "text/plain": [
       "<Figure size 640x480 with 1 Axes>"
      ]
     },
     "metadata": {},
     "output_type": "display_data"
    }
   ],
   "source": [
    "#Part d\n",
    "\n",
    "# For aluminum\n",
    "u_aluminum = np.zeros((14,1), dtype=object)\n",
    "u_aluminum[2:13] = y_aluminum\n",
    "reaction_forces_aluminum = np.dot(K, u_aluminum)\n",
    "\n",
    "node_positions = np.array([[i, 0] for i in range(0, 1200, 200)])\n",
    "\n",
    "# Plot the undeformed structure\n",
    "for i in range(len(node_positions)-1):\n",
    "    plt.plot(node_positions[i:i+2, 0], node_positions[i:i+2, 1], 'k--')\n",
    "\n",
    "# Plot the deformed structure for aluminum (scaled displacements)\n",
    "deformation_scale = 5.0  # Scale factor for displacements\n",
    "for i in range(2, 13):\n",
    "    # Plot the deformed positions of the nodes\n",
    "    plt.plot(\n",
    "        [node_positions[i-2, 0], node_positions[i-2, 0] + deformation_scale * u_aluminum[i]],\n",
    "        [node_positions[i-2, 1], node_positions[i-2, 1] + deformation_scale * u_aluminum[i+1]],\n",
    "        'b-'\n",
    "    )\n",
    "\n",
    "# Plot the reaction forces as vectors\n",
    "for i in range(2, 13):\n",
    "    plt.quiver(\n",
    "        node_positions[i-2, 0], node_positions[i-2, 1],\n",
    "        reaction_forces_aluminum[i], reaction_forces_aluminum[i+1],\n",
    "        angles='xy', scale_units='xy', scale=1, color='r'\n",
    "    )\n",
    "\n",
    "plt.figure()\n",
    "plt.xlabel('x (mm)')\n",
    "plt.ylabel('y (mm)')\n",
    "plt.title('Deformed Structure with Displacements and Reaction Forces')\n",
    "plt.axis('equal')\n",
    "plt.grid(True)\n",
    "plt.show()\n",
    "\n",
    "'''Was confused about this part for plotting. Hoping to get some feedback and a helpful hint so that I can adjust the code and create the proper plot'''"
   ]
  },
  {
   "cell_type": "markdown",
   "id": "7baf6191",
   "metadata": {},
   "source": [
    "### 3. Determine cross-sectional area\n",
    "\n",
    "a. Using aluminum, what is the minimum cross-sectional area to keep total y-deflections $<0.2~mm$?\n",
    "\n",
    "b. Using steel, what is the minimum cross-sectional area to keep total y-deflections $<0.2~mm$?\n",
    "\n",
    "c. What are the weights of the aluminum and steel trusses with the\n",
    "chosen cross-sectional areas?"
   ]
  },
  {
   "cell_type": "code",
   "execution_count": null,
   "id": "e43c0d9b",
   "metadata": {},
   "outputs": [],
   "source": [
    "import numpy as np\n",
    "\n",
    "E_steel = 200e9\n",
    "E_aluminum = 70e9 \n",
    "F = np.zeros((14, 1))\n",
    "F[5] = -300 \n",
    "\n",
    "K[2:13, 2:13] = la.lu(K[2:13, 2:13])[1]\n",
    "\n",
    "density_steel = 7850\n",
    "density_aluminum = 2700\n",
    "\n",
    "max_deflection = 0.2e-3\n",
    "\n",
    "def calculate_min_cross_sectional_area(E, density):\n",
    "    for A in np.linspace(1e-8, 1e-4, 10000):  \n",
    "        K_scaled = K * E * A\n",
    "        K_reduced = K_scaled[2:13, 2:13]\n",
    "        F_reduced = F[2:13]\n",
    "\n",
    "        u = np.linalg.solve(K_reduced, F_reduced)\n",
    "\n",
    "        total_y_deflection = np.sum(np.abs(u[1::2])) \n",
    "\n",
    "        if total_y_deflection < max_deflection:\n",
    "            weight = density * A * (np.linalg.norm(K_scaled, axis=1).sum())\n",
    "            return A, weight\n",
    "    return None, None\n",
    "\n",
    "min_area_aluminum, weight_aluminum = calculate_min_cross_sectional_area(E_aluminum, density_aluminum)\n",
    "min_area_steel, weight_steel = calculate_min_cross_sectional_area(E_steel, density_steel)\n",
    "\n",
    "print(\"Aluminum minimum area: \",min_area_aluminum) \n",
    "print(\"Aluminum weight: \",weight_aluminum)\n",
    "print(\"Steel minimum area: \",min_area_steel)\n",
    "print(\"Steel weight: \",weight_steel)"
   ]
  },
  {
   "cell_type": "markdown",
   "id": "2758e007",
   "metadata": {},
   "source": [
    "## References\n",
    "\n",
    "1. <https://en.wikipedia.org/wiki/Direct_stiffness_method>"
   ]
  }
 ],
 "metadata": {
  "jupytext": {
   "formats": "notebooks//ipynb,md:myst",
   "text_representation": {
    "extension": ".md",
    "format_name": "myst",
    "format_version": 0.13,
    "jupytext_version": "1.11.4"
   }
  },
  "kernelspec": {
   "display_name": "Python 3 (ipykernel)",
   "language": "python",
   "name": "python3"
  },
  "language_info": {
   "codemirror_mode": {
    "name": "ipython",
    "version": 3
   },
   "file_extension": ".py",
   "mimetype": "text/x-python",
   "name": "python",
   "nbconvert_exporter": "python",
   "pygments_lexer": "ipython3",
   "version": "3.9.18"
  },
  "source_map": [
   13,
   18,
   24,
   53,
   60,
   64,
   78,
   88,
   96,
   122,
   132,
   144,
   156,
   197,
   208,
   245
  ]
 },
 "nbformat": 4,
 "nbformat_minor": 5
}