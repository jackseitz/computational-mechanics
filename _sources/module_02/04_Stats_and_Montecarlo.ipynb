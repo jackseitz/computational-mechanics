{
 "cells": [
  {
   "cell_type": "markdown",
   "id": "c3d0e801",
   "metadata": {},
   "source": [
    "> __Content created under Creative Commons Attribution license CC-BY\n",
    "> 4.0, code under BSD 3-Clause License © 2020 R.C. Cooper__"
   ]
  },
  {
   "cell_type": "markdown",
   "id": "559971db",
   "metadata": {},
   "source": [
    "# 04 - Statistics and Monte-Carlo Models\n",
    "\n",
    "Monte Carlo models use random numbers to either understand statistics or generate a solution [1]. \n",
    "The main element in a Monte Carlo model is the use of random numbers. Monte Carlo methods are very useful if you can easily execute a function lots of time or even in parallel. \n",
    "\n",
    "We can generate random numbers in many ways, but most programming languages have 'pseudo'-random number generators. \n",
    "\n",
    "In Python, we use the [NumPy random\n",
    "library](https://numpy.org/doc/stable/reference/random/index.html) as such"
   ]
  },
  {
   "cell_type": "code",
   "execution_count": 1,
   "id": "84523f84",
   "metadata": {},
   "outputs": [
    {
     "data": {
      "text/plain": [
       "array([0.29630855, 0.3401941 , 0.96374318, 0.88556746, 0.67368182,\n",
       "       0.97362265, 0.00139606, 0.8008836 , 0.00958902, 0.23492182,\n",
       "       0.85297231, 0.57953211, 0.38673953, 0.43872041, 0.12688542,\n",
       "       0.96060352, 0.73932285, 0.12830125, 0.40339945, 0.18663321])"
      ]
     },
     "execution_count": 1,
     "metadata": {},
     "output_type": "execute_result"
    }
   ],
   "source": [
    "import numpy as np\n",
    "from numpy.random import default_rng\n",
    "rng = default_rng()\n",
    "\n",
    "x = rng.random(20)\n",
    "x"
   ]
  },
  {
   "cell_type": "markdown",
   "id": "881c741b",
   "metadata": {},
   "source": [
    "NumPy's random number generator (`rng`) creates random numbers that can\n",
    "be [uniformly\n",
    "distributed](https://en.wikipedia.org/wiki/Continuous_uniform_distribution),\n",
    "[normally\n",
    "distributed](https://en.wikipedia.org/wiki/Normal_distribution), and\n",
    "[much\n",
    "more](https://numpy.org/doc/stable/reference/random/generator.html#distributions).\n",
    "The call to `rng.random(20)` created 20 uniformly random numbers between\n",
    "0 and 1 saved as the variable `x`. Next, you can plot the histogram of\n",
    "`x`."
   ]
  },
  {
   "cell_type": "code",
   "execution_count": 2,
   "id": "a5864ecb",
   "metadata": {},
   "outputs": [],
   "source": [
    "import matplotlib.pyplot as plt\n",
    "plt.style.use('fivethirtyeight')"
   ]
  },
  {
   "cell_type": "code",
   "execution_count": 3,
   "id": "9c74077b",
   "metadata": {},
   "outputs": [
    {
     "data": {
      "text/plain": [
       "(array([5., 4., 3., 2., 6.]),\n",
       " array([0.00139606, 0.19584138, 0.3902867 , 0.58473201, 0.77917733,\n",
       "        0.97362265]),\n",
       " <BarContainer object of 5 artists>)"
      ]
     },
     "execution_count": 3,
     "metadata": {},
     "output_type": "execute_result"
    },
    {
     "data": {
      "image/png": "[encoded data removed]",
      "text/plain": [
       "<Figure size 640x480 with 1 Axes>"
      ]
     },
     "metadata": {},
     "output_type": "display_data"
    }
   ],
   "source": [
    "plt.hist(x, bins = 5, \n",
    "            color = 'b', \n",
    "            histtype = 'bar', \n",
    "            edgecolor = 'w')"
   ]
  },
  {
   "cell_type": "markdown",
   "id": "5d81b9dc",
   "metadata": {},
   "source": [
    "The pyplot function `hist` displays a histogram of these randomly generated numbers."
   ]
  },
  {
   "cell_type": "markdown",
   "id": "ed48c278",
   "metadata": {},
   "source": [
    "## Exercise and Discussion\n",
    "\n",
    "Try generating more random numbers and plotting histograms of the results i.e. increase `10` to larger values. \n",
    "\n",
    "What should the histogram of `x` look like if Python is generating truly random numbers?"
   ]
  },
  {
   "cell_type": "code",
   "execution_count": 4,
   "id": "23963d45",
   "metadata": {},
   "outputs": [
    {
     "data": {
      "image/png": "[encoded data removed]",
      "text/plain": [
       "<Figure size 640x480 with 1 Axes>"
      ]
     },
     "metadata": {},
     "output_type": "display_data"
    }
   ],
   "source": [
    "rng = default_rng()\n",
    "x = rng.random(10000)\n",
    "plt.hist(x);"
   ]
  },
  {
   "cell_type": "markdown",
   "id": "3a5706f0",
   "metadata": {},
   "source": [
    "## Examples of Monte Carlo models:\n",
    "\n",
    "Monte Carlo models have a wide array of applications. We are going to use Monte Carlo models in later modules to explore how uncertainty in measurements can be incorporated into computational models. The three main applications for Monte Carlo models are used in three main classes: optimization, numerical integration, and generating population distributions [1]. \n",
    "\n",
    "Here is a brief list of Monte Carlo model use cases in real-world applications:\n",
    "\n",
    "- [Eigenvlaues in supercritical systems](https://link.springer.com/chapter/10.1007%2FBFb0049064)\n",
    "- [average time between failures for reliability](http://www.egr.msu.edu/~mitraj/research/pubs/proc/singh-mitra_em_stdby_ias95.pdf)\n",
    "- disordered materials (physics)\n",
    "- [Calculation of the energy output of a wind farm](http://www.mdpi.com/1996-1073/9/4/286/pdf)\n",
    "- [US Coast Guard rescue missions](https://en.wikipedia.org/wiki/Search_and_Rescue_Optimal_Planning_System)\n",
    "- [Radiation shielding](http://www.sciencedirect.com/science/article/pii/S0920379612000580)\n",
    "- [Predict number of asteroids that hit body of water](https://cneos.jpl.nasa.gov/sentry/intro.html)\n",
    "- [Financial modeling](https://en.wikipedia.org/wiki/Monte_Carlo_methods_in_finance)\n",
    "\n",
    "We will explore Monte Carlo modeling through the use of three examples:\n",
    "\n",
    "1. Calculate the value of $\\pi$\n",
    "\n",
    "2. Simulate Brownian motion of particles in fluids\n",
    "\n",
    "3. Propagate uncertainty in manufacturing into uncertainty in failure load\n",
    "\n",
    "\n",
    "## Example 1: Calculate $\\pi$ with random numbers. \n",
    "\n",
    "Assuming we can actually generate random numbers (a topic of philosophical and heated debates) we can populate a unit square with random points and determine the ratio of points inside and outside of a circle.\n",
    "\n",
    "![Unit circle and unit square](../images/MonteCarloPi.gif)\n",
    "\n",
    "![1/4 Unit circle and 1/4 unit square](../images/MonteCarloPi_rand.gif)\n",
    "\n",
    "\n",
    "The ratio of the area of the circle to the square is:\n",
    "\n",
    "$\\frac{\\pi r^{2}}{4r^{2}}=\\frac{\\pi}{4}$\n",
    "\n",
    "So if we know the fraction of random points that are within the unit circle, then we can calculate $\\pi$\n",
    "\n",
    "(number of points in circle)/(total number of points)=$\\pi/4$"
   ]
  },
  {
   "cell_type": "code",
   "execution_count": 5,
   "id": "ee36736b",
   "metadata": {},
   "outputs": [],
   "source": [
    "def montecarlopi(N):\n",
    "    '''Create random x-y-coordinates to and use ratio of circle-to-square to \n",
    "    calculate the value of pi\n",
    "    i.e. Acircle/Asquare = pi/4\n",
    "    Arguments\n",
    "    ---------\n",
    "    N: number of random points to produce between x=0-1 and y=0-1\n",
    "    \n",
    "    Returns\n",
    "    -------\n",
    "    our_pi: the best prediction of pi using N points\n",
    "    '''\n",
    "    \n",
    "\n",
    "    x = rng.random(N,1);\n",
    "    y = rng.random(N,1);\n",
    "    R=np.sqrt(x**2+y**2); # compute radius\n",
    "    num_in_circle=sum(R<1);\n",
    "    total_num_pts =len(R);\n",
    "    our_pi = 4*num_in_circle/total_num_pts;\n",
    "    return our_pi"
   ]
  },
  {
   "cell_type": "code",
   "execution_count": 6,
   "id": "8fb62d51",
   "metadata": {},
   "outputs": [
    {
     "ename": "TypeError",
     "evalue": "Cannot interpret '1' as a data type",
     "output_type": "error",
     "traceback": [
      "\u001b[0;31m---------------------------------------------------------------------------\u001b[0m",
      "\u001b[0;31mTypeError\u001b[0m                                 Traceback (most recent call last)",
      "Cell \u001b[0;32mIn[6], line 3\u001b[0m\n\u001b[1;32m      1\u001b[0m test_pi\u001b[38;5;241m=\u001b[39mnp\u001b[38;5;241m.\u001b[39mzeros(\u001b[38;5;241m10\u001b[39m)\n\u001b[1;32m      2\u001b[0m \u001b[38;5;28;01mfor\u001b[39;00m i \u001b[38;5;129;01min\u001b[39;00m \u001b[38;5;28mrange\u001b[39m(\u001b[38;5;241m0\u001b[39m,\u001b[38;5;241m10\u001b[39m):\n\u001b[0;32m----> 3\u001b[0m     test_pi[i]\u001b[38;5;241m=\u001b[39m\u001b[43mmontecarlopi\u001b[49m\u001b[43m(\u001b[49m\u001b[38;5;241;43m1000\u001b[39;49m\u001b[43m)\u001b[49m;\n\u001b[1;32m      5\u001b[0m \u001b[38;5;28mprint\u001b[39m(\u001b[38;5;124m'\u001b[39m\u001b[38;5;124mmean value for pi = \u001b[39m\u001b[38;5;132;01m%f\u001b[39;00m\u001b[38;5;124m'\u001b[39m\u001b[38;5;241m%\u001b[39mnp\u001b[38;5;241m.\u001b[39mmean(test_pi))\n\u001b[1;32m      6\u001b[0m \u001b[38;5;28mprint\u001b[39m(\u001b[38;5;124m'\u001b[39m\u001b[38;5;124mstandard deviation is \u001b[39m\u001b[38;5;132;01m%f\u001b[39;00m\u001b[38;5;124m'\u001b[39m\u001b[38;5;241m%\u001b[39mnp\u001b[38;5;241m.\u001b[39mstd(test_pi))\n",
      "Cell \u001b[0;32mIn[5], line 15\u001b[0m, in \u001b[0;36mmontecarlopi\u001b[0;34m(N)\u001b[0m\n\u001b[1;32m      1\u001b[0m \u001b[38;5;28;01mdef\u001b[39;00m \u001b[38;5;21mmontecarlopi\u001b[39m(N):\n\u001b[1;32m      2\u001b[0m \u001b[38;5;250m    \u001b[39m\u001b[38;5;124;03m'''Create random x-y-coordinates to and use ratio of circle-to-square to \u001b[39;00m\n\u001b[1;32m      3\u001b[0m \u001b[38;5;124;03m    calculate the value of pi\u001b[39;00m\n\u001b[1;32m      4\u001b[0m \u001b[38;5;124;03m    i.e. Acircle/Asquare = pi/4\u001b[39;00m\n\u001b[0;32m   (...)\u001b[0m\n\u001b[1;32m     11\u001b[0m \u001b[38;5;124;03m    our_pi: the best prediction of pi using N points\u001b[39;00m\n\u001b[1;32m     12\u001b[0m \u001b[38;5;124;03m    '''\u001b[39;00m\n\u001b[0;32m---> 15\u001b[0m     x \u001b[38;5;241m=\u001b[39m \u001b[43mrng\u001b[49m\u001b[38;5;241;43m.\u001b[39;49m\u001b[43mrandom\u001b[49m\u001b[43m(\u001b[49m\u001b[43mN\u001b[49m\u001b[43m,\u001b[49m\u001b[38;5;241;43m1\u001b[39;49m\u001b[43m)\u001b[49m;\n\u001b[1;32m     16\u001b[0m     y \u001b[38;5;241m=\u001b[39m rng\u001b[38;5;241m.\u001b[39mrandom(N,\u001b[38;5;241m1\u001b[39m);\n\u001b[1;32m     17\u001b[0m     R\u001b[38;5;241m=\u001b[39mnp\u001b[38;5;241m.\u001b[39msqrt(x\u001b[38;5;241m*\u001b[39m\u001b[38;5;241m*\u001b[39m\u001b[38;5;241m2\u001b[39m\u001b[38;5;241m+\u001b[39my\u001b[38;5;241m*\u001b[39m\u001b[38;5;241m*\u001b[39m\u001b[38;5;241m2\u001b[39m); \u001b[38;5;66;03m# compute radius\u001b[39;00m\n",
      "File \u001b[0;32mnumpy/random/_generator.pyx:354\u001b[0m, in \u001b[0;36mnumpy.random._generator.Generator.random\u001b[0;34m()\u001b[0m\n",
      "\u001b[0;31mTypeError\u001b[0m: Cannot interpret '1' as a data type"
     ]
    }
   ],
   "source": [
    "test_pi=np.zeros(10)\n",
    "for i in range(0,10):\n",
    "    test_pi[i]=montecarlopi(1000);\n",
    "\n",
    "print('mean value for pi = %f'%np.mean(test_pi))\n",
    "print('standard deviation is %f'%np.std(test_pi))\n",
    "print('actual pi is %f'%np.pi)"
   ]
  },
  {
   "cell_type": "markdown",
   "id": "5bb69725",
   "metadata": {},
   "source": [
    "## Exercises\n",
    "\n",
    "1. Why is there a standard deviation for the value of $\\pi$ calculated with a Monte Carlo method? Does it depend upon how many times you run the function i.e. the size of `test_pi`? or the number of random points `N`? Alter the script above to discover correlations\n",
    "\n",
    "2. How well does your function `montecarlopi` converge to the true value\n",
    "of $\\pi$ (you can use `np.pi` as a true value)? Plot the convergence as\n",
    "we did in [03-Numerical_error](../module_01/03-Numerical_error)"
   ]
  },
  {
   "cell_type": "code",
   "execution_count": null,
   "id": "1650d043",
   "metadata": {},
   "outputs": [],
   "source": [
    "test_pi=np.zeros(100)\n",
    "for i in range(0,100):\n",
    "    test_pi[i]=montecarlopi(1000);\n",
    "\n",
    "print('mean value for pi = %f'%np.mean(test_pi))\n",
    "print('standard deviation is %f'%np.std(test_pi))\n",
    "print('actual pi is %f'%np.pi)"
   ]
  },
  {
   "cell_type": "markdown",
   "id": "cb77fd8f",
   "metadata": {},
   "source": [
    "Compare the above 100 `test_pi` cases each 1000 points. \n",
    "\n",
    "to the below 10 `test_pi` cases each 10,000 points.\n",
    "\n",
    "Above, the std is the same as before $\\approx 0.05$\n",
    "\n",
    "Below, the std is decreased to $\\approx 0.01$"
   ]
  },
  {
   "cell_type": "code",
   "execution_count": null,
   "id": "01c357c5",
   "metadata": {},
   "outputs": [],
   "source": [
    "test_pi=np.zeros(10)\n",
    "for i in range(0,10):\n",
    "    test_pi[i]=montecarlopi(10000);\n",
    "\n",
    "print('mean value for pi = %f'%np.mean(test_pi))\n",
    "print('standard deviation is %f'%np.std(test_pi))\n",
    "print('actual pi is %f'%np.pi)"
   ]
  },
  {
   "cell_type": "code",
   "execution_count": null,
   "id": "4123fd16",
   "metadata": {},
   "outputs": [],
   "source": [
    "N=np.arange(0,5)\n",
    "error = np.zeros(len(N))\n",
    "\n",
    "for n in N:\n",
    "    mypi = np.zeros(10)\n",
    "    for i in range(0,10):\n",
    "        mypi[i]=montecarlopi(10**n)\n",
    "    mupi = np.mean(mypi)\n",
    "    error[n] = np.abs(np.pi-mupi)/np.pi\n",
    "plt.semilogy(N,error)\n",
    "plt.xlabel('N=10^n')\n",
    "plt.ylabel('relative error');"
   ]
  },
  {
   "cell_type": "markdown",
   "id": "cfbd876d",
   "metadata": {},
   "source": [
    "## Example 2: Simulate Brownian motion of particles in a fluid \n",
    "\n",
    "[Brownian motion](https://www.britannica.com/science/Brownian-motion)\n",
    "was first documented by Robert Brown, a Scottish botanist in 1827. It is\n",
    "a description of how large particles move and vibrate in fluids that\n",
    "have no buld motion. The atoms from the fluid bounce off the suspended\n",
    "particles to jiggle them randomly left and right. Take a look at [Up and\n",
    "Atom's video](https://www.youtube.com/channel/UCSIvk78tK2TiviLQn4fSHaw)\n",
    "for more information in the physics and history of the phenomenon."
   ]
  },
  {
   "cell_type": "code",
   "execution_count": null,
   "id": "417f63bc",
   "metadata": {},
   "outputs": [],
   "source": [
    "from IPython.display import YouTubeVideo\n",
    "YouTubeVideo('5jBVYvHeG2c')"
   ]
  },
  {
   "cell_type": "markdown",
   "id": "61eb0564",
   "metadata": {},
   "source": [
    "In this example, your goal is to predict the location of 50 particles\n",
    "if they take 100 random steps from -0.5 to 0.5 $\\mu m$ in the x- and\n",
    "y-directions. \n",
    "\n",
    "### Exercise (Discussion)\n",
    "\n",
    "If the steps are uniformly random and can be positive or negative, where\n",
    "do you _expect_ the particle to be after 100 steps? Will it be back to\n",
    "where it started? or will it migrate to somewhere new?\n",
    "\n",
    "### Generate your Brownian motion\n",
    "\n",
    "Here, we are simplifying the physics of the Brownian motion (ignoring\n",
    "the details in the transfer of momentum from small to large particles)\n",
    "and just assuming each step in the x- and y-directions are  -0.5 to 0.5\n",
    "$\\mu m$. Here is the Monte Carlo process:\n",
    "\n",
    "1. generate 2 sets of 100 random numbers between -0.5 to 0.5 for\n",
    "$Delta x$ and $\\Delta y$. \n",
    "2. create an array with 100 locations, the first is at the origin (0, 0)\n",
    "3. take a cumulative sum of the $\\Delta x$ and $\\Delta y$ steps to find\n",
    "the location at each step\n",
    "4. plot the results\n",
    "\n",
    "Here, you create the 100 random numbers and shift them by 0.5."
   ]
  },
  {
   "cell_type": "code",
   "execution_count": null,
   "id": "6167f59b",
   "metadata": {},
   "outputs": [],
   "source": [
    "rng = default_rng()\n",
    "N_steps = 100\n",
    "dx = rng.random(N_steps) - 0.5\n",
    "dy = rng.random(N_steps) - 0.5"
   ]
  },
  {
   "cell_type": "markdown",
   "id": "6d654fe4",
   "metadata": {},
   "source": [
    "Next, create the positions at each step."
   ]
  },
  {
   "cell_type": "code",
   "execution_count": null,
   "id": "ae5d1470",
   "metadata": {},
   "outputs": [],
   "source": [
    "r = np.zeros((N_steps, 2))"
   ]
  },
  {
   "cell_type": "markdown",
   "id": "dcf906ed",
   "metadata": {},
   "source": [
    "Now, use\n",
    "[`np.cumsum`](https://numpy.org/doc/stable/reference/generated/numpy.cumsum.html)\n",
    "to find the final position after each step is taken."
   ]
  },
  {
   "cell_type": "code",
   "execution_count": null,
   "id": "092aab64",
   "metadata": {},
   "outputs": [],
   "source": [
    "r[:, 0] = np.cumsum(dx) # final rx position\n",
    "r[:, 1] = np.cumsum(dy) # final ry position"
   ]
  },
  {
   "cell_type": "markdown",
   "id": "3c93bb94",
   "metadata": {},
   "source": [
    "Finally, you can plot the path the particle took as it moved along its\n",
    "100 steps and its final location."
   ]
  },
  {
   "cell_type": "code",
   "execution_count": null,
   "id": "f1758117",
   "metadata": {},
   "outputs": [],
   "source": [
    "plt.plot(r[:, 0 ], r[:, 1])\n",
    "plt.plot(r[-1, 0], r[-1, 1], 'o', markersize = 10)\n",
    "plt.xlabel('x-position (um)')\n",
    "plt.ylabel('y-position (um)')"
   ]
  },
  {
   "cell_type": "markdown",
   "id": "792087bc",
   "metadata": {},
   "source": [
    "A curious result, even though we prescribed random motion, the final\n",
    "location did not end up back at the origin, where it started. __What if\n",
    "you looked at 50 particles?__ How many would end up back at the origin?\n",
    "Use a for-loop to calculate the position of 50 particles taking 100\n",
    "steps each."
   ]
  },
  {
   "cell_type": "code",
   "execution_count": null,
   "id": "229f9a23",
   "metadata": {},
   "outputs": [],
   "source": [
    "num_particles = 50\n",
    "r_final = np.zeros((num_particles, 2))\n",
    "for i in range(0, num_particles):\n",
    "    dx = rng.random(N_steps) - 0.5\n",
    "    dy = rng.random(N_steps) - 0.5\n",
    "\n",
    "    r = np.zeros((N_steps, 2))\n",
    "\n",
    "    r[:, 0] = np.cumsum(dx)\n",
    "    r[:, 1] = np.cumsum(dy)\n",
    "    r_final[i, :] = r[-1, :]\n",
    "\n",
    "    plt.plot(r[:, 0 ], r[:, 1], alpha = 0.2)\n",
    "plt.plot(r_final[:, 0], r_final[:, 1], 'o', markersize = 10)"
   ]
  },
  {
   "cell_type": "markdown",
   "id": "90931b01",
   "metadata": {},
   "source": [
    "### Exercise\n",
    "Calculate the average location of the particles. What is the standard\n",
    "deviation?"
   ]
  },
  {
   "cell_type": "code",
   "execution_count": null,
   "id": "036b30c3",
   "metadata": {},
   "outputs": [],
   "source": []
  },
  {
   "cell_type": "markdown",
   "id": "6fbcef5c",
   "metadata": {},
   "source": [
    "## Exercise\n",
    "\n",
    "Compare the scaled histogram to the original histogram. What is similar? What is different?\n",
    "\n",
    "Make a scaling equation to get uniformly random numbers between 10 and 20. \n",
    "\n",
    "_The scaling keeps the bin heights constant, but it changes the width and location of the bins in the histogram. Scaling to 10-20 shows a more extreme example._"
   ]
  },
  {
   "cell_type": "code",
   "execution_count": null,
   "id": "a31b2a81",
   "metadata": {},
   "outputs": [],
   "source": []
  },
  {
   "cell_type": "markdown",
   "id": "42442a10",
   "metadata": {},
   "source": [
    "### Example 3: Determine uncertainty in failure load based on geometry uncertainty\n",
    "\n",
    "In this example, we know that a steel bar will break under 940 MPa tensile stress. The bar is 1 mm by 2 mm with a tolerance of 10 %. What is the range of tensile loads that can be safely applied to the beam?\n",
    "\n",
    "$\\sigma_{UTS}=\\frac{F_{fail}}{wh}$\n",
    "\n",
    "$F_{fail}=\\sigma_{UTS}wh$"
   ]
  },
  {
   "cell_type": "code",
   "execution_count": null,
   "id": "0923392b",
   "metadata": {},
   "outputs": [],
   "source": [
    "N = 10000\n",
    "r = rng.random(N)\n",
    "wmean = 1 # in mm\n",
    "wmin = wmean-wmean*0.1\n",
    "wmax = wmean+wmean*0.1\n",
    "hmean = 2 # in mm\n",
    "hmin = hmean-hmean*0.1\n",
    "hmax = hmean+hmean*0.1\n",
    "\n",
    "wrand=wmin+(wmax-wmin)*r\n",
    "hrand=hmin+(hmax-hmin)*r\n",
    "\n",
    "uts=940 # in N/mm^2=MPa\n",
    "\n",
    "Ffail=uts*wrand*hrand*1e-3 # force in kN\n",
    "plt.hist(Ffail,bins=20,)\n",
    "plt.xlabel('failure load (kN)')\n",
    "plt.ylabel('relative counts')\n",
    "plt.title('Failure load is {:.2f}+/- {:.2f} kN'.format(np.mean(Ffail),np.std(Ffail)))"
   ]
  },
  {
   "cell_type": "markdown",
   "id": "fd694ff3",
   "metadata": {},
   "source": [
    "Normally, the tolerance is not a maximum/minimum specification, but\n",
    "instead a normal distribution that describes the standard deviation, or\n",
    "the 68% confidence interval.\n",
    "\n",
    "So instead, you should generate normally distributed dimensions."
   ]
  },
  {
   "cell_type": "code",
   "execution_count": null,
   "id": "3de567fe",
   "metadata": {},
   "outputs": [],
   "source": [
    "N=10000\n",
    "wmean=1 # in mm\n",
    "wstd=wmean*0.1 # standard deviation in mm\n",
    "hmean=2 # in mm\n",
    "hstd=hmean*0.1 # standard deviation in mm\n",
    "\n",
    "\n",
    "wrand=rng.normal(loc = wmean, scale = wstd, size = N)\n",
    "hrand=np.random.normal(loc = hmean, scale = hstd, size = N)\n",
    "uts=940 # in N/mm^2=MPa\n",
    "\n",
    "Ffail=uts*wrand*hrand*1e-3 # force in kN\n",
    "plt.hist(Ffail,bins=20)\n",
    "#plt.xlabel('failure load (kN)')\n",
    "#plt.ylabel('relative counts')\n",
    "plt.title('Failure load is {:.2f}+/- {:.2f} kN'.format(np.mean(Ffail),np.std(Ffail)))"
   ]
  },
  {
   "cell_type": "markdown",
   "id": "cdb45bd6",
   "metadata": {},
   "source": [
    "In this propagation of uncertainty, the final value of failure load seems to be independent of wheher the distribution is uniformly random or normally distributed. In both cases, the failure load is $\\approx 1.9 \\pm 0.25$ kN.\n",
    "\n",
    "The difference is much more apparent if you look at the number of occurrences that failure will occur whether the dimensions are uniformly random or normally distributed. \n",
    "\n",
    "For the uniformly random case, there are approximately 500 parts out of 10,000 that will fail at 1.9 kN. \n",
    "\n",
    "For the normally distributed case, there are approximately 1500 parts out of 10,000 that will fail at 1.9 kN. \n",
    "\n",
    "## What you've learned:\n",
    "\n",
    "* How to generate \"random\" numbers in Python$^+$\n",
    "* The definition of a Monte Carlo model\n",
    "* How to calculate $\\pi$ with Monte Carlo\n",
    "* How to model Brownian motion with Monte Carlo\n",
    "* How to propagate uncertainty in a model with Monte Carlo\n",
    "\n",
    "$^+$ Remember, the computer only generates pseudo-random numbers. For further information **and** truly random numbers  check [www.random.org](https://www.random.org/randomness/) \n",
    "\n",
    "## References\n",
    "\n",
    "1. [Why the Monte Carlo method is so important today\n",
    "Dirk P. Kroese, Tim Brereton *et al.* Wiley Interdisciplinary Reviews: Computational Statistics, 6, 6, 11 2014](https://onlinelibrary.wiley.com/doi/full/10.1002/wics.1314)\n",
    "\n",
    "2. [Wikipedia: Monte Carlo integration](https://en.wikipedia.org/wiki/Monte_Carlo_integration)\n",
    "\n",
    "3. [Weinzierl, S. (2000). \"Introduction to Monte Carlo methods\"](https://arxiv.org/abs/hep-ph/0006269)\n",
    "\n",
    "4. Meurer A, _et al._ (2017) SymPy: symbolic computing in Python. PeerJ Computer Science 3:e103 https://doi.org/10.7717/peerj-cs.103\n",
    "\n",
    "5. Whittaker, E. T. and Robinson, G. \"Normal Frequency Distribution.\" Ch. 8 in The Calculus of Observations: A Treatise on Numerical Mathematics, 4th ed. New York: Dover, p. 179, 1967."
   ]
  }
 ],
 "metadata": {
  "jupytext": {
   "formats": "notebooks//ipynb,md:myst",
   "text_representation": {
    "extension": ".md",
    "format_name": "myst",
    "format_version": 0.13,
    "jupytext_version": "1.10.3"
   }
  },
  "kernelspec": {
   "display_name": "Python 3",
   "language": "python",
   "name": "python3"
  },
  "language_info": {
   "codemirror_mode": {
    "name": "ipython",
    "version": 3
   },
   "file_extension": ".py",
   "mimetype": "text/x-python",
   "name": "python",
   "nbconvert_exporter": "python",
   "pygments_lexer": "ipython3",
   "version": "3.9.18"
  },
  "source_map": [
   13,
   18,
   30,
   37,
   50,
   55,
   60,
   64,
   72,
   76,
   119,
   143,
   151,
   161,
   169,
   179,
   189,
   202,
   214,
   217,
   245,
   250,
   254,
   256,
   262,
   265,
   270,
   275,
   283,
   298,
   304,
   306,
   316,
   318,
   328,
   348,
   356,
   373
  ]
 },
 "nbformat": 4,
 "nbformat_minor": 5
}