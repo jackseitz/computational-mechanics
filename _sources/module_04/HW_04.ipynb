{
 "cells": [
  {
   "cell_type": "markdown",
   "id": "c0bf066c",
   "metadata": {},
   "source": [
    "# Homework\n",
    "## Problems [Part 1](./01_Linear-Algebra.md)\n",
    "\n",
    "1. Consider the following pistons connected in series. You want to find\n",
    "   the distance each piston moves when equal and opposite forces are\n",
    "   applied to each side. In case 1, you consider the motion of all five\n",
    "   pistons, but in case 2 you set the motion of piston 5 to 0. \n",
    "\n",
    "![Springs-masses](../images/series-springs_01-02.png)\n",
    "\n",
    "Using a FBD for each piston, in case 1:\n",
    "\n",
    "$k_1x_{1}-k_2x_{2}=F$\n",
    "\n",
    "$(k_1 +k_2)x_2 -k_1x_1 - k_2x_3 = 0$\n",
    "\n",
    "$(k_2 +k_3)x_3 -k_2x_2 - k_3x_4 = 0$\n",
    "\n",
    "$(k_3 +k_4)x_4 -k_3x_3 - k_4x_5 = 0$\n",
    "\n",
    "$k_4x_5 - k_4x_4 = -F$\n",
    "\n",
    "in matrix form:\n",
    "\n",
    "$\\left[ \\begin{array}{ccccc}\n",
    "k_1 & -k_1 & 0 & 0 & 0\\\\\n",
    "-k_1 & k_1+k_2 & -k_2 & 0 & 0 \\\\\n",
    "0 & -k_2 & k_2+k_3 & -k_3 & 0\\\\\n",
    "0 & 0 & -k_3 & k_3+k_4 & -k_4\\\\\n",
    "0 & 0 & 0 & -k_4 & k_4  \n",
    "\\end{array} \\right]\n",
    "\\left[ \\begin{array}{c}\n",
    "x_{1} \\\\\n",
    "x_{2} \\\\\n",
    "x_{3} \\\\\n",
    "x_{4} \\\\\n",
    "x_{5}\\end{array} \\right]=\n",
    "\\left[ \\begin{array}{c}\n",
    "F \\\\\n",
    "0 \\\\\n",
    "0 \\\\\n",
    "0 \\\\\n",
    "-F \\end{array} \\right]$\n",
    "\n",
    "Try to use `np.linalg.solve` to find the piston x-positions. Do you get\n",
    "any warnings or errors? _use stiffness values of $k_* = 1$ and force of\n",
    "$F=1$"
   ]
  },
  {
   "cell_type": "code",
   "execution_count": 1,
   "id": "fbcc87f3",
   "metadata": {},
   "outputs": [],
   "source": [
    "import numpy as np\n",
    "import pandas as pd\n",
    "import matplotlib.pyplot as plt\n",
    "from scipy.linalg import lu_factor, lu_solve\n",
    "from scipy.optimize import curve_fit"
   ]
  },
  {
   "cell_type": "code",
   "execution_count": 2,
   "id": "8d74a04b",
   "metadata": {},
   "outputs": [
    {
     "name": "stdout",
     "output_type": "stream",
     "text": [
      "The piston x positions are:  [-1.11022302e-16 -1.00000000e+00 -2.00000000e+00 -3.00000000e+00\n",
      " -4.00000000e+00]\n"
     ]
    },
    {
     "data": {
      "text/plain": [
       "'No error'"
      ]
     },
     "execution_count": 2,
     "metadata": {},
     "output_type": "execute_result"
    }
   ],
   "source": [
    "k = 1\n",
    "F = 1\n",
    "\n",
    "A = np.array([[k+k, -k, 0, 0, 0],\n",
    "              [-k, k+k, -k, 0, 0],\n",
    "              [0, -k, k+k, -k, 0],\n",
    "              [0, 0, -k, k+k, -k],\n",
    "              [0, 0, 0, -k, k]])\n",
    "\n",
    "B = np.array([F, 0, 0, 0, -F])\n",
    "\n",
    "try:\n",
    "    x_positions = np.linalg.solve(A, B)\n",
    "except Exception as e:\n",
    "    error_message = str(e)\n",
    "    x_positions = None\n",
    "\n",
    "print(\"The piston x positions are: \",x_positions)\n",
    "'''No error'''"
   ]
  },
  {
   "cell_type": "markdown",
   "id": "30a181bf",
   "metadata": {},
   "source": [
    "Now, consider case 2, \n",
    "\n",
    "Using a FBD for each piston, in case 2:\n",
    "\n",
    "$k_1x_{1}-k_2x_{2}=F$\n",
    "\n",
    "$(k_1 +k_2)x_2 -k_1x_1 - k_2x_3 = 0$\n",
    "\n",
    "$(k_2 +k_3)x_3 -k_2x_2 - k_3x_4 = 0$\n",
    "\n",
    "$(k_3 +k_4)x_4 -k_3x_3 = 0$\n",
    "\n",
    "in matrix form:\n",
    "\n",
    "$\\left[ \\begin{array}{cccc}\n",
    "k_1 & -k_1 & 0 & 0 \\\\\n",
    "-k_1 & k_1+k_2 & -k_2 & 0 \\\\\n",
    "0 & -k_2 & k_2+k_3 & -k_3 \\\\\n",
    "0 & 0 & -k_3 & k_3+k_4 \\\\\n",
    "\\end{array} \\right]\n",
    "\\left[ \\begin{array}{c}\n",
    "x_{1} \\\\\n",
    "x_{2} \\\\\n",
    "x_{3} \\\\\n",
    "x_{4} \\end{array} \\right]=\n",
    "\\left[ \\begin{array}{c}\n",
    "F \\\\\n",
    "0 \\\\\n",
    "0 \\\\\n",
    "0 \\end{array} \\right]$\n",
    "\n",
    "Try to use `np.linalg.solve` to find the piston x-positions. Do you get\n",
    "any warnings or errors? Why does this solution work better [hint: check\n",
    "condition\n",
    "numbers](./01_Linear-Algebra.md#Singular-and-ill-conditioned-matrices)"
   ]
  },
  {
   "cell_type": "code",
   "execution_count": 3,
   "id": "184a5409",
   "metadata": {},
   "outputs": [
    {
     "name": "stdout",
     "output_type": "stream",
     "text": [
      "The piston x positions are:  [4. 3. 2. 1.]\n",
      "The condition number is:  29.28405223595455\n"
     ]
    },
    {
     "data": {
      "text/plain": [
       "'No errors. This solve works better due to the fact that this matrix has a lower and more stable condition number'"
      ]
     },
     "execution_count": 3,
     "metadata": {},
     "output_type": "execute_result"
    }
   ],
   "source": [
    "A_case2 = np.array([[k, -k, 0, 0],\n",
    "                    [-k, k+k, -k, 0],\n",
    "                    [0, -k, k+k, -k],\n",
    "                    [0, 0, -k, k+k]])\n",
    "\n",
    "B_case2 = np.array([F, 0, 0, 0])\n",
    "\n",
    "try:\n",
    "    x_positions_case2 = np.linalg.solve(A_case2, B_case2)\n",
    "    condition_number_case2 = np.linalg.cond(A_case2)\n",
    "    warning_or_error_case2 = \"No warnings or errors\"\n",
    "    \n",
    "except Exception as e:\n",
    "    warning_or_error_case2 = str(e)\n",
    "    condition_number_case2 = None\n",
    "    x_positions_case2 = None\n",
    "    \n",
    "print(\"The piston x positions are: \",x_positions_case2)\n",
    "print(\"The condition number is: \",condition_number_case2)\n",
    "'''No errors. This solve works better due to the fact that this matrix has a lower and more stable condition number'''"
   ]
  },
  {
   "cell_type": "markdown",
   "id": "a952711b",
   "metadata": {},
   "source": [
    "![HVAC diagram showing the flow rates and connections between floors](../images/hvac.png)\n",
    "\n",
    "2. In the figure above you have an idealized Heating, Ventilation and\n",
    "   Air conditioning (HVAC) system. In the current configuration, the\n",
    "   three-room building is being cooled off by $T_{in}$ air fed into the\n",
    "   building at $\\dot{m}_1. Our goal is to determine the steady-state temperatures of the rooms given the following information\n",
    "\n",
    "* $\\dot{m}_1=0.1~kg/s$\n",
    "* $\\dot{m}_2=0.12~kg/s$\n",
    "* $\\dot{m}_3=0.12~kg/s$\n",
    "* $\\dot{m}_4=0.1~kg/s$\n",
    "* $\\dot{m}_5=0.02~kg/s$\n",
    "* $\\dot{m}_6=0.02~kg/s$\n",
    "* $C_p=1000~\\frac{J}{kg-K}$\n",
    "* $\\dot{Q}_{in} = 300~W$\n",
    "* $T_{in} = 12^{o} C$\n",
    "\n",
    "The energy-balance equations for rooms 1-3 create three equations:\n",
    "\n",
    "1. $\\dot{m}_1 C_p T_{in}+\\dot{Q}_{in}-\\dot{m}_2 C_p T_{1}+\\dot{m}_6 C_p T_{2} = 0$\n",
    "\n",
    "2. $\\dot{m}_2 C_p T_{1}+\\dot{Q}_{in}+\\dot{m}_5 C_p T_{3}-\\dot{m}_3 C_p T_{2}-\\dot{m}_6 C_p T_{2} = 0$\n",
    "\n",
    "3. $\\dot{m}_3 C_p T_{2}+\\dot{Q}_{in}-\\dot{m}_5 C_p T_{3}-\\dot{m}_4 C_p T_{3} = 0$\n",
    "\n",
    "Identify the unknown variables and constants to create a linear algebra problem in the form of $\\mathbf{Ax}=\\mathbf{b}$.\n",
    "\n",
    "a. Create the matrix $\\mathbf{A}$\n",
    "\n",
    "b. Create the known vector $\\mathbf{b}$\n",
    "\n",
    "c. Solve for the unknown variables, $\\mathbf{x}$\n",
    "\n",
    "d. What are the warmest and coldest rooms? What are their temperatures?"
   ]
  },
  {
   "cell_type": "code",
   "execution_count": 4,
   "id": "534afc0f",
   "metadata": {},
   "outputs": [
    {
     "name": "stdout",
     "output_type": "stream",
     "text": [
      "Matrix A: \n",
      "[[ 100. -120.    0.]\n",
      " [-100.  240. -120.]\n",
      " [   0. -120.  220.]]\n"
     ]
    }
   ],
   "source": [
    "m_dot = [0.1, 0.12, 0.12, 0.1, 0.02, 0.02]  \n",
    "Cp = 1000 \n",
    "Q_in = 300  \n",
    "T_in = 12  \n",
    "\n",
    "#Part a\n",
    "A = np.array([\n",
    "    [m_dot[0]*Cp, -m_dot[1]*Cp, 0],\n",
    "    [-m_dot[0]*Cp, (m_dot[1]+m_dot[2])*Cp, -m_dot[2]*Cp],\n",
    "    [0, -m_dot[2]*Cp, (m_dot[2]+m_dot[3])*Cp]\n",
    "])\n",
    "\n",
    "print(\"Matrix A: \")\n",
    "print(A)"
   ]
  },
  {
   "cell_type": "code",
   "execution_count": 5,
   "id": "23f43e18",
   "metadata": {},
   "outputs": [
    {
     "name": "stdout",
     "output_type": "stream",
     "text": [
      "Known vector b: \n",
      "[540.  60.  60.]\n"
     ]
    }
   ],
   "source": [
    "#Part b\n",
    "b = np.array([\n",
    "    Q_in + m_dot[5]*Cp*T_in,\n",
    "    Q_in - m_dot[5]*Cp*T_in,\n",
    "    Q_in - m_dot[4]*Cp*T_in\n",
    "])\n",
    "\n",
    "print(\"Known vector b: \")\n",
    "print(b)"
   ]
  },
  {
   "cell_type": "code",
   "execution_count": 6,
   "id": "13e44545",
   "metadata": {},
   "outputs": [
    {
     "name": "stdout",
     "output_type": "stream",
     "text": [
      "Solved unknown variables:  [19.32 11.6   6.6 ]\n"
     ]
    }
   ],
   "source": [
    "#Part c\n",
    "x = np.linalg.solve(A, b)\n",
    "\n",
    "print(\"Solved unknown variables: \",x)"
   ]
  },
  {
   "cell_type": "code",
   "execution_count": 7,
   "id": "61ebc3d0",
   "metadata": {},
   "outputs": [
    {
     "name": "stdout",
     "output_type": "stream",
     "text": [
      "Warmest room:  1 , Warmest temp:  19.32\n",
      "Coldest room:  3 , Coldest temp:  6.6\n"
     ]
    }
   ],
   "source": [
    "#Part d\n",
    "warmest_room_temp = np.max(x)\n",
    "coldest_room_temp = np.min(x)\n",
    "warmest_room = np.argmax(x) + 1  #Adding 1 to match room numbering starting from 1\n",
    "coldest_room = np.argmin(x) + 1\n",
    "\n",
    "print(\"Warmest room: \",warmest_room,\", Warmest temp: \", warmest_room_temp)\n",
    "print(\"Coldest room: \",coldest_room,\", Coldest temp: \", coldest_room_temp)"
   ]
  },
  {
   "cell_type": "markdown",
   "id": "ebb394ac",
   "metadata": {},
   "source": [
    "3. The [Hilbert Matrix](https://en.wikipedia.org/wiki/Hilbert_matrix) has a high condition number and as the matrix increases dimensions, the condition number increases. Find the condition number of a \n",
    "\n",
    "a. $1 \\times 1$ Hilbert matrix\n",
    "\n",
    "b. $5 \\times 5$ Hilbert matrix\n",
    "\n",
    "c. $10 \\times 10$ Hilbert matrix\n",
    "\n",
    "d. $15 \\times 15$ Hilbert matrix\n",
    "\n",
    "e. $20 \\times 20$ Hilbert matrix\n",
    "\n",
    "If the accuracy of each matrix element is $\\approx 10^{-16}$, what is the expected rounding error in the solution $\\mathbf{Ax} = \\mathbf{b}$, where $\\mathbf{A}$ is the Hilbert matrix."
   ]
  },
  {
   "cell_type": "code",
   "execution_count": 8,
   "id": "63a6465c",
   "metadata": {},
   "outputs": [
    {
     "name": "stdout",
     "output_type": "stream",
     "text": [
      "Matrix condition number (1 = 1x1 matrix): \n",
      "{1: 1.0, 5: 476607.2502425855, 10: 16024416987428.36, 15: 3.67568286586649e+17, 20: 1.1484020388436145e+18}\n",
      "Matrix errors (1 = 1x1 matrix): \n",
      "{1: 1e-16, 5: 4.766072502425855e-11, 10: 0.001602441698742836, 15: 36.7568286586649, 20: 114.84020388436144}\n"
     ]
    },
    {
     "data": {
      "text/plain": [
       "'The expected rounding error for the solution to Ax=b would be A*10^-16. The condition number scales the error.'"
      ]
     },
     "execution_count": 8,
     "metadata": {},
     "output_type": "execute_result"
    }
   ],
   "source": [
    "def hilbert_matrix(n):\n",
    "    return np.array([[1.0 / (i + j - 1) for j in range(1, n+1)] for i in range(1, n+1)])\n",
    "\n",
    "# Calculate condition numbers for Hilbert matrices of sizes 1x1, 5x5, 10x10, 15x15, and 20x20\n",
    "sizes = [1, 5, 10, 15, 20]\n",
    "condition_numbers = {size: np.linalg.cond(hilbert_matrix(size)) for size in sizes}\n",
    "\n",
    "errors = {size: cond * 1e-16 for size, cond in condition_numbers.items()}\n",
    "\n",
    "print(\"Matrix condition number (1 = 1x1 matrix): \")\n",
    "print(condition_numbers)\n",
    "\n",
    "print(\"Matrix errors (1 = 1x1 matrix): \")\n",
    "print(errors)\n",
    "\n",
    "'''The expected rounding error for the solution to Ax=b would be A*10^-16. The condition number scales the error.'''"
   ]
  },
  {
   "cell_type": "markdown",
   "id": "de00d9d8",
   "metadata": {},
   "source": [
    "## Problems [Part 2](./02_Gauss_elimination.md)\n",
    "\n",
    "1. 4 masses are connected in series to 4 springs with K=100N/m. What are the final positions of the masses? \n",
    "\n",
    "![Springs-masses](../images/mass_springs.png)\n",
    "\n",
    "The masses haves the following amounts, 1, 2, 3, and 4 kg for masses 1-4. Using a FBD for each mass:\n",
    "\n",
    "$m_{1}g+k(x_{2}-x_{1})-kx_{1}=0$\n",
    "\n",
    "$m_{2}g+k(x_{3}-x_{2})-k(x_{2}-x_{1})=0$\n",
    "\n",
    "$m_{3}g+k(x_{4}-x_{3})-k(x_{3}-x_{2})=0$\n",
    "\n",
    "$m_{4}g-k(x_{4}-x_{3})=0$\n",
    "\n",
    "in matrix form K=100 N/m:\n",
    "\n",
    "$\\left[ \\begin{array}{cccc}\n",
    "2k & -k & 0 & 0 \\\\\n",
    "-k & 2k & -k & 0 \\\\\n",
    "0 & -k & 2k & -k \\\\\n",
    "0 & 0 & -k & k \\end{array} \\right]\n",
    "\\left[ \\begin{array}{c}\n",
    "x_{1} \\\\\n",
    "x_{2} \\\\\n",
    "x_{3} \\\\\n",
    "x_{4} \\end{array} \\right]=\n",
    "\\left[ \\begin{array}{c}\n",
    "m_{1}g \\\\\n",
    "m_{2}g \\\\\n",
    "m_{3}g \\\\\n",
    "m_{4}g \\end{array} \\right]$"
   ]
  },
  {
   "cell_type": "code",
   "execution_count": 9,
   "id": "760e8ef3",
   "metadata": {},
   "outputs": [
    {
     "name": "stdout",
     "output_type": "stream",
     "text": [
      "Position of m1:  0.9810000000000008 m\n",
      "Position of m2:  1.8639000000000014 m\n",
      "Position of m3:  2.5506000000000024 m\n",
      "Position of m4:  2.9430000000000023 m\n"
     ]
    }
   ],
   "source": [
    "k = 100 \n",
    "masses = [1, 2, 3, 4]  \n",
    "g = 9.81  \n",
    "\n",
    "A = np.array([\n",
    "    [2*k, -k, 0, 0],\n",
    "    [-k, 2*k, -k, 0],\n",
    "    [0, -k, 2*k, -k],\n",
    "    [0, 0, -k, k]\n",
    "])\n",
    "\n",
    "b = np.array([masses[i] * g for i in range(4)])\n",
    "\n",
    "x = np.linalg.solve(A, b)\n",
    "\n",
    "print(\"Position of m1: \",x[0], \"m\")\n",
    "print(\"Position of m2: \",x[1], \"m\")\n",
    "print(\"Position of m3: \",x[2], \"m\")\n",
    "print(\"Position of m4: \",x[3], \"m\")"
   ]
  },
  {
   "cell_type": "markdown",
   "id": "393f5926",
   "metadata": {},
   "source": [
    "![Triangular truss](../images/truss.png)\n",
    "\n",
    "For problems __2-3__, consider the simple 3-element triangular truss, shown above, with a point load applied at the tip. The goal is to understand what tension is in the horizontal element, $P_1$. In problem __2__, the applied force is verical $(\\theta=0)$ and in problem __3__ the applied force varies in angle $(\\theta \\neq 0)$. \n",
    "\n",
    "2. In the truss shown above, calculate the tension in bar 1, $P_1$, when $\\theta=0$. When $\\theta=0$, the $\\sum F=0$ at each corner creates 3 equations and 3 unknowns as such (here, you reduce the number of equations with symmetry, $P_2=P_3,~R_2=R_3,~and~R_1=0$ ). \n",
    "\n",
    "$\\left[ \\begin{array}{ccc}\n",
    "1 & \\cos\\alpha & 0 \\\\\n",
    "0 & 2\\sin\\alpha & 0 \\\\\n",
    "0 & -\\sin\\alpha &  1 \\\\\n",
    " \\end{array} \\right]\n",
    "\\left[ \\begin{array}{c}\n",
    "P_{1} \\\\\n",
    "P_{2} \\\\\n",
    "R_{2} \\end{array} \\right]=\n",
    "\\left[ \\begin{array}{c}\n",
    "0 \\\\\n",
    "F \\\\\n",
    "0 \\end{array} \\right]$\n",
    "\n",
    "a. Create the system of equations, $\\mathbf{Ax}=\\mathbf{b}$, when $\\alpha=75^o$, $\\beta=30^o$, and $F=1~kN$. Use __Gauss elimination__ to solve for $P_1,~P_2,~and~R_2$. What is the resulting augmented matrix, $\\mathbf{A|y}$ after Gauss elimination?\n",
    "\n",
    "b. Solve for the $\\mathbf{LU}$ decomposition of $\\mathbf{A}$. \n",
    "\n",
    "c. Use the $\\mathbf{LU}$ solution to solve for the tension in bar 1 $(P_1)$ every 10 N values of force, F, between 100 N and 1100 N. Plot $P_1~vs~F$."
   ]
  },
  {
   "cell_type": "code",
   "execution_count": 10,
   "id": "7c6d521a",
   "metadata": {},
   "outputs": [
    {
     "name": "stdout",
     "output_type": "stream",
     "text": [
      "Resulting matrix: \n",
      "[[ 1.          0.50881905 -0.12940952]\n",
      " [ 0.         -1.96592583  1.5       ]\n",
      " [ 0.         -1.39893853  0.94888874]]\n"
     ]
    }
   ],
   "source": [
    "#Part a\n",
    "alpha_deg = 75\n",
    "beta_deg = 30\n",
    "\n",
    "alpha = np.radians(alpha_deg)\n",
    "beta = np.radians(beta_deg)\n",
    "\n",
    "F = 1  \n",
    "\n",
    "A = np.array([[1, np.cos(alpha), 0],\n",
    "              [0, np.sin(alpha), -np.sin(beta)],\n",
    "              [0, -1, 1]])\n",
    "\n",
    "b = np.array([0, F, 0])\n",
    "\n",
    "#Perform Gaussian elimination (LU decomposition) on matrix A\n",
    "lu, piv = lu_factor(A)\n",
    "\n",
    "LU = lu.dot(A)\n",
    "\n",
    "print(\"Resulting matrix: \")\n",
    "print(LU)"
   ]
  },
  {
   "cell_type": "code",
   "execution_count": 11,
   "id": "dd2c87a4",
   "metadata": {},
   "outputs": [
    {
     "name": "stdout",
     "output_type": "stream",
     "text": [
      "LU decomposition: \n",
      "[-611.04350424 2360.89080694 2360.89080694]\n"
     ]
    }
   ],
   "source": [
    "#Part b\n",
    "forces = np.linspace(100, 1100, 10)\n",
    "tensions_P1 = []\n",
    "\n",
    "for force in forces:\n",
    "    b = np.array([0, force, 0])\n",
    "    x = lu_solve((lu, piv), b) \n",
    "    tensions_P1.append(x[0])\n",
    "    \n",
    "print(\"LU decomposition: \")\n",
    "print(x)"
   ]
  },
  {
   "cell_type": "code",
   "execution_count": 12,
   "id": "068efc40",
   "metadata": {},
   "outputs": [
    {
     "data": {
      "image/png": "[encoded data removed]",
      "text/plain": [
       "<Figure size 1000x500 with 1 Axes>"
      ]
     },
     "metadata": {},
     "output_type": "display_data"
    },
    {
     "name": "stdout",
     "output_type": "stream",
     "text": [
      "Tensions in bar 1 (P1): \n",
      "[-55.549409476594455, -117.2709755616994, -178.99254164680434, -240.71410773190928, -302.4356738170143, -364.15723990211916, -425.87880598722415, -487.6003720723291, -549.321938157434, -611.0435042425389]\n"
     ]
    }
   ],
   "source": [
    "#Part c\n",
    "plt.figure(figsize=(10, 5))\n",
    "plt.plot(forces, tensions_P1, marker='o')\n",
    "plt.title('Tension in Bar P1 vs. Applied Force F')\n",
    "plt.xlabel('Force F (N)')\n",
    "plt.ylabel('Tension in Bar P1 (N)')\n",
    "plt.grid(True)\n",
    "plt.show()\n",
    "\n",
    "\n",
    "print(\"Tensions in bar 1 (P1): \")\n",
    "print(tensions_P1)"
   ]
  },
  {
   "cell_type": "markdown",
   "id": "2db0798f",
   "metadata": {},
   "source": [
    "3. Using the same truss as shown above, let's calculate the tension in bar 1, $P_1$, when $\\theta=[0...90^o]$ and $F=[100...1100]~kN$. When $\\theta\\neq 0$, the resulting 6 equations and 6 unknowns are given in the following matrix\n",
    "\n",
    "$\\left[ \\begin{array}{ccc}\n",
    "0 & \\sin\\alpha & 0 & 1 & 0 & 0 \\\\\n",
    "1 & \\cos\\alpha & 0 & 0 & 1 & 0 \\\\\n",
    "0 & \\cos\\beta/2 & \\cos\\beta/2 & 0 & 0 & 0 \\\\\n",
    "0 & -\\sin\\beta/2 & \\sin\\beta/2 & 0 & 0 & 0 \\\\\n",
    "-1 & 0 & \\cos\\alpha & 0 & 0 & 0 \\\\\n",
    "0 & 0 & \\sin\\alpha & 0 & 0 & 1 \\\\\n",
    " \\end{array} \\right]\n",
    "\\left[ \\begin{array}{c}\n",
    "P_{1} \\\\\n",
    "P_{2} \\\\\n",
    "P_{3} \\\\\n",
    "R_{1} \\\\\n",
    "R_{2} \\\\\n",
    "R_{3}\\end{array} \\right]=\n",
    "\\left[ \\begin{array}{c}\n",
    "0 \\\\\n",
    "0 \\\\\n",
    "F\\cos\\theta \\\\\n",
    "-F\\sin\\theta \\\\\n",
    "0 \\\\\n",
    "0 \\end{array} \\right]$\n",
    "\n",
    "a. Create the system of equations, $\\mathbf{Ax}=\\mathbf{b}$, when $\\alpha=75^o$, $\\beta=30^o$, $\\theta=45^o=\\pi/4$, and $F=1~kN$. Use __Gauss elimination__ to solve for $P_1,~P_2,~P_3,~R_1,~R_2,~and~R_3$. What is the resulting augmented matrix, $\\mathbf{A|y}$ after Gauss elimination? _Hint: do you see a problem with the order of the equations? How can you __pivot__ to fix it?_\n",
    "\n",
    "b. Solve for the $\\mathbf{PLU}$ decomposition of $\\mathbf{A}$. \n",
    "\n",
    "c. Use the $\\mathbf{PLU}$ solution to solve for the tension in bar 1 $(P_1)$ every 10 N values of force, F, between 100 N and 1100 N. Plot $P_1~vs~F$."
   ]
  },
  {
   "cell_type": "code",
   "execution_count": 13,
   "id": "5e3d9792",
   "metadata": {},
   "outputs": [
    {
     "name": "stdout",
     "output_type": "stream",
     "text": [
      "Pivoted matrices: \n",
      "[[ 1.          0.25881905  0.          0.          1.          0.        ]\n",
      " [ 0.          0.96592583  0.          1.          0.          0.        ]\n",
      " [ 0.          0.          0.96592583  0.96592583  0.          0.        ]\n",
      " [ 0.          0.          1.         -0.96592583  0.          1.        ]\n",
      " [-1.          0.26794919  0.26794919  0.54535061  1.         -0.54535061]\n",
      " [ 0.          0.         -0.26794919 -0.53589838  0.          1.53589838]]\n",
      "[0 1 2 5 4 5]\n"
     ]
    }
   ],
   "source": [
    "#Part a\n",
    "alpha_deg = 75\n",
    "beta_deg = 30\n",
    "theta_deg = 45 \n",
    "\n",
    "alpha = np.radians(alpha_deg)\n",
    "beta = np.radians(beta_deg)\n",
    "theta = np.radians(theta_deg)\n",
    "\n",
    "F = 1000 \n",
    "\n",
    "A = np.array([\n",
    "    [0, np.sin(alpha), 0, 1, 0, 0],\n",
    "    [1, np.cos(alpha), 0, 0, 1, 0],\n",
    "    [0, 0, np.cos(beta/2), np.cos(beta/2), 0, 0],\n",
    "    [0, 0, -np.sin(beta/2), np.sin(beta/2), 0, 1],\n",
    "    [-1, 0, np.cos(alpha), 0, 0, 0],\n",
    "    [0, 0, np.sin(alpha), 0, 0, 1]\n",
    "])\n",
    "\n",
    "b = np.array([\n",
    "    0,\n",
    "    0,\n",
    "    F * np.cos(theta),\n",
    "    -F * np.sin(theta),\n",
    "    0,\n",
    "    0\n",
    "])\n",
    "\n",
    "#Before applying Gaussian elimination, we need to pivot the matrix A to prevent a zero from appearing in the pivot position in the first row.\n",
    "#Swapping row 1 with a row below it that has a non-zero entry in the first column.\n",
    "\n",
    "A[[0, 1]] = A[[1, 0]]\n",
    "b[[0, 1]] = b[[1, 0]]\n",
    "\n",
    "lu, piv = lu_factor(A)\n",
    "\n",
    "print(\"Pivoted matrices: \")\n",
    "print(lu)\n",
    "print(piv)"
   ]
  },
  {
   "cell_type": "code",
   "execution_count": 14,
   "id": "29765a91",
   "metadata": {},
   "outputs": [
    {
     "name": "stdout",
     "output_type": "stream",
     "text": [
      "PLU decomposition: \n",
      "[ 172.05587537 -145.43873882  664.77285435  140.48303397 -134.41355987\n",
      " -642.12126864]\n"
     ]
    }
   ],
   "source": [
    "#Part b\n",
    "forces = np.linspace(100, 1100, 10)\n",
    "tensions_P1 = []\n",
    "\n",
    "for force in forces:\n",
    "    b_updated = np.array([\n",
    "        0,\n",
    "        0,\n",
    "        force * np.cos(theta),\n",
    "        -force * np.sin(theta),\n",
    "        0,\n",
    "        0\n",
    "    ])\n",
    "    x = lu_solve((lu, piv), b_updated)\n",
    "    tensions_P1.append(x[0])\n",
    "    \n",
    "print(\"PLU decomposition: \")\n",
    "print(x)"
   ]
  },
  {
   "cell_type": "code",
   "execution_count": 15,
   "id": "85a137b0",
   "metadata": {},
   "outputs": [
    {
     "data": {
      "image/png": "[encoded data removed]",
      "text/plain": [
       "<Figure size 1000x500 with 1 Axes>"
      ]
     },
     "metadata": {},
     "output_type": "display_data"
    },
    {
     "name": "stdout",
     "output_type": "stream",
     "text": [
      "Tensions in bar 1 (P1): \n",
      "[15.641443215823761, 33.020824566739044, 50.40020591765434, 67.77958726856966, 85.15896861948492, 102.53834997040022, 119.91773132131553, 137.29711267223087, 154.67649402314606, 172.05587537406137]\n"
     ]
    }
   ],
   "source": [
    "#Part c\n",
    "plt.figure(figsize=(10, 5))\n",
    "plt.plot(forces, tensions_P1, marker='o')\n",
    "plt.title('Tension in Bar P1 vs. Applied Force F')\n",
    "plt.xlabel('Force F (N)')\n",
    "plt.ylabel('Tension in Bar P1 (N)')\n",
    "plt.grid(True)\n",
    "plt.show()\n",
    "\n",
    "print(\"Tensions in bar 1 (P1): \")\n",
    "print(tensions_P1)"
   ]
  },
  {
   "cell_type": "markdown",
   "id": "3421693f",
   "metadata": {},
   "source": [
    "## Problems [Part 3](./03_Linear-regression-algebra.md)\n",
    "\n",
    "<img\n",
    "src=\"https://i.imgur.com/LoBbHaM.png\" alt=\"prony series diagram\"\n",
    "style=\"width: 300px;\"/> <img src=\"https://i.imgur.com/8i140Zu.png\" alt\n",
    "= \"stress relax data\" style=\"width: 400px;\"/> \n",
    "\n",
    "Viscoelastic Prony series model and stress-vs-time relaxation curve of wheat kernels [[3]](https://www.cerealsgrains.org/publications/plexus/cfw/pastissues/2013/Documents/CFW-58-3-0139.pdf). Stress relaxation curve of a wheat kernel from regressed equation data that illustrate where to locate relaxation times (vertical dotted lines) and stresses (horizontal black marks). $\\sigma$ = stress; t = time.\n",
    "\n",
    "2. [Viscoelasticity](https://en.wikipedia.org/wiki/Viscoelasticity) is a property of materials that exhibit stiffness, but also tend to flow slowly. One example is [Silly Putty](https://en.wikipedia.org/wiki/Silly_Putty), when you throw a lump it bounces, but if you leave it on a table it _creeps_, slowly flowing downwards. In the stress-vs-time plot above, a wheat kernel was placed under constant strain and the stress was recorded. In a purely elastic material, the stress would be constant. In a purely viscous material, the stress would decay to 0 MPa. \n",
    "\n",
    "Here, you have a viscoelastic material, so there is some residual elastic stress as $t\\rightarrow \\infty$. The researchers used a 4-part [Prony series](https://en.wikipedia.org/wiki/Prony%27s_method) to model viscoelasticity. The function they fit was\n",
    "\n",
    "$\\sigma(t) = a_1 e^{-t/1.78}+a_2 e^{-t/11}+a_3e^{-t/53}+a_4e^{-t/411}+a_5$\n",
    "\n",
    "a. Load the data from the graph shown above in the file `../data/stress_relax.dat`. \n",
    "\n",
    "b. Create a $\\mathbf{Z}$-matrix to perform the least-squares regression for the given Prony series equation $\\mathbf{y} = \\mathbf{Za}$.\n",
    "\n",
    "c. Solve for the constants, $a_1,~a_2,~a_3,~a_4~,a_5$\n",
    "\n",
    "d. Plot the best-fit function and the data from `../data/stress_relax.dat` _Use at least 50 points in time to get a smooth best-fit line._"
   ]
  },
  {
   "cell_type": "code",
   "execution_count": 16,
   "id": "2a4a4d04",
   "metadata": {},
   "outputs": [],
   "source": [
    "#Part a\n",
    "file_path = '../data/stress_relax.dat'\n",
    "\n",
    "data = np.loadtxt(file_path, delimiter=',', skiprows=1)\n",
    "\n",
    "time = data[:, 0]\n",
    "stress = data[:, 1]"
   ]
  },
  {
   "cell_type": "code",
   "execution_count": 17,
   "id": "e4c40a13",
   "metadata": {},
   "outputs": [
    {
     "name": "stdout",
     "output_type": "stream",
     "text": [
      "Z matrix: \n",
      "[[1.00000000e+000 1.00000000e+000 1.00000000e+000 1.00000000e+000\n",
      "  1.00000000e+000]\n",
      " [2.80995455e-004 1.30906597e-005 2.24328575e-015 5.31744167e-050\n",
      "  1.00000000e+000]\n",
      " [2.21869645e-011 2.24328575e-015 1.12889563e-044 1.50351652e-148\n",
      "  1.00000000e+000]\n",
      " [2.21869645e-011 2.24328575e-015 1.12889563e-044 1.50351652e-148\n",
      "  1.00000000e+000]\n",
      " [1.75184824e-018 3.84421493e-025 5.68097638e-074 4.25122091e-247\n",
      "  1.00000000e+000]\n",
      " [1.75184824e-018 3.84421493e-025 5.68097638e-074 4.25122091e-247\n",
      "  1.00000000e+000]\n",
      " [6.80911784e-047 3.31512508e-064 3.64334047e-191 0.00000000e+000\n",
      "  1.00000000e+000]\n",
      " [3.35186584e-068 1.66828065e-093 4.64309253e-279 0.00000000e+000\n",
      "  1.00000000e+000]\n",
      " [2.89053935e-107 3.22734927e-147 0.00000000e+000 0.00000000e+000\n",
      "  1.00000000e+000]\n",
      " [1.96820231e-153 1.06990665e-210 0.00000000e+000 0.00000000e+000\n",
      "  1.00000000e+000]\n",
      " [6.04035826e-189 1.58110681e-259 0.00000000e+000 0.00000000e+000\n",
      "  1.00000000e+000]\n",
      " [8.59483119e-317 0.00000000e+000 0.00000000e+000 0.00000000e+000\n",
      "  1.00000000e+000]\n",
      " [0.00000000e+000 0.00000000e+000 0.00000000e+000 0.00000000e+000\n",
      "  1.00000000e+000]\n",
      " [0.00000000e+000 0.00000000e+000 0.00000000e+000 0.00000000e+000\n",
      "  1.00000000e+000]\n",
      " [0.00000000e+000 0.00000000e+000 0.00000000e+000 0.00000000e+000\n",
      "  1.00000000e+000]\n",
      " [0.00000000e+000 0.00000000e+000 0.00000000e+000 0.00000000e+000\n",
      "  1.00000000e+000]\n",
      " [0.00000000e+000 0.00000000e+000 0.00000000e+000 0.00000000e+000\n",
      "  1.00000000e+000]\n",
      " [0.00000000e+000 0.00000000e+000 0.00000000e+000 0.00000000e+000\n",
      "  1.00000000e+000]\n",
      " [0.00000000e+000 0.00000000e+000 0.00000000e+000 0.00000000e+000\n",
      "  1.00000000e+000]\n",
      " [0.00000000e+000 0.00000000e+000 0.00000000e+000 0.00000000e+000\n",
      "  1.00000000e+000]\n",
      " [0.00000000e+000 0.00000000e+000 0.00000000e+000 0.00000000e+000\n",
      "  1.00000000e+000]\n",
      " [0.00000000e+000 0.00000000e+000 0.00000000e+000 0.00000000e+000\n",
      "  1.00000000e+000]]\n"
     ]
    }
   ],
   "source": [
    "#Part b\n",
    "tau = [1/8, 1/11, 1/33, 1/111]\n",
    "\n",
    "Z = np.column_stack((np.exp(-time/tau[0]), np.exp(-time/tau[1]), np.exp(-time/tau[2]), np.exp(-time/tau[3]), np.ones_like(time)))\n",
    "\n",
    "print(\"Z matrix: \")\n",
    "print(Z)"
   ]
  },
  {
   "cell_type": "code",
   "execution_count": 18,
   "id": "d602b5f4",
   "metadata": {},
   "outputs": [
    {
     "name": "stdout",
     "output_type": "stream",
     "text": [
      "Constant a1:  192109065860.60938\n",
      "Constant a2:  -4123685920825.3857\n",
      "Constant a3:  1965733384267.1187\n",
      "Constant a4:  1965843470703.8716\n",
      "Constant a5:  32.660400390625\n"
     ]
    }
   ],
   "source": [
    "#Part c\n",
    "coefficients, residuals, rank, s = np.linalg.lstsq(Z, stress, rcond=None)\n",
    "print(\"Constant a1: \", coefficients[0])\n",
    "print(\"Constant a2: \", coefficients[1])\n",
    "print(\"Constant a3: \", coefficients[2])\n",
    "print(\"Constant a4: \", coefficients[3])\n",
    "print(\"Constant a5: \", coefficients[4])"
   ]
  },
  {
   "cell_type": "code",
   "execution_count": 19,
   "id": "1f7449a9",
   "metadata": {},
   "outputs": [
    {
     "data": {
      "image/png": "[encoded data removed]",
      "text/plain": [
       "<Figure size 1000x600 with 1 Axes>"
      ]
     },
     "metadata": {},
     "output_type": "display_data"
    },
    {
     "data": {
      "text/plain": [
       "'Tried debugging this plot, I am aware it looks incorrect.'"
      ]
     },
     "execution_count": 19,
     "metadata": {},
     "output_type": "execute_result"
    }
   ],
   "source": [
    "#Part d\n",
    "smooth_time = np.linspace(time.min(), time.max(), 500)\n",
    "smooth_stress = np.dot(np.column_stack((np.exp(-smooth_time/tau[0]), np.exp(-smooth_time/tau[1]),\n",
    "                                        np.exp(-smooth_time/tau[2]), np.exp(-smooth_time/tau[3]),\n",
    "                                        np.ones_like(smooth_time))), coefficients)\n",
    "\n",
    "plt.figure(figsize=(10, 6))\n",
    "plt.scatter(time, stress, label='Data', color='black')\n",
    "plt.plot(smooth_time, smooth_stress, label='Best-fit', color='blue')\n",
    "plt.title('Stress Relaxation over Time')\n",
    "plt.xlabel('Time (sec)')\n",
    "plt.ylabel('Stress (MPa)')\n",
    "plt.legend()\n",
    "plt.grid(True)\n",
    "plt.show()\n",
    "\n",
    "'''Tried debugging this plot, I am aware it looks incorrect.'''"
   ]
  },
  {
   "cell_type": "markdown",
   "id": "3d6d2363",
   "metadata": {},
   "source": [
    "3. Load the '../data/primary-energy-consumption-by-region.csv' that has the energy consumption of different regions of the world from 1965 until 2018 [Our world in Data](https://ourworldindata.org/energy). \n",
    "You are going to compare the energy consumption of the United States to all of Europe. Load the data into a pandas dataframe. *Note: you can get certain rows of the data frame by specifying what you're looking for e.g. \n",
    "`EUR = dataframe[dataframe['Entity']=='Europe']` will give us all the rows from Europe's energy consumption.*\n",
    "\n",
    "a. Use a piecewise least-squares regression to find a function for the energy consumption as a function of year\n",
    "\n",
    "energy consumed = $f(t) = At+B+C(t-1970)H(t-1970)$\n",
    "\n",
    "c. What is your prediction for US energy use in 2025? How about European energy use in 2025?"
   ]
  },
  {
   "cell_type": "code",
   "execution_count": 20,
   "id": "d3525570",
   "metadata": {},
   "outputs": [
    {
     "name": "stdout",
     "output_type": "stream",
     "text": [
      "US function slope and intercept:  [ 2.00397832e+02 -3.76521141e+05]\n",
      "EURO function slope and intercept:  [ 1.99620397e+02 -3.75985956e+05]\n"
     ]
    }
   ],
   "source": [
    "#Part a\n",
    "data = pd.read_csv('../data/primary-energy-consumption-by-region.csv')\n",
    "data = pd.DataFrame(data)\n",
    "US = data[data['Entity']=='United States']\n",
    "EURO = data[data['Entity']=='Europe']\n",
    "\n",
    "x_US = US['Year'].values\n",
    "y_US = US['Primary Energy Consumption (terawatt-hours)'].values\n",
    "x_EURO = EURO['Year'].values\n",
    "y_EURO = EURO['Primary Energy Consumption (terawatt-hours)'].values\n",
    "\n",
    "\n",
    "\n",
    "def least_squares_fit(x, y):\n",
    "    X = np.vstack([x, np.ones(len(x))]).T\n",
    "    return np.linalg.lstsq(X, y, rcond=None)[0]\n",
    "\n",
    "#US\n",
    "coeff_US = least_squares_fit(x_US, y_US)\n",
    "\n",
    "#Europe\n",
    "coeff_EURO = least_squares_fit(x_EURO, y_EURO)\n",
    "\n",
    "print(\"US function slope and intercept: \",coeff_US)\n",
    "print(\"EURO function slope and intercept: \",coeff_EURO)"
   ]
  },
  {
   "cell_type": "code",
   "execution_count": 21,
   "id": "7baa2562",
   "metadata": {},
   "outputs": [
    {
     "name": "stdout",
     "output_type": "stream",
     "text": [
      "Predicted 2025 US energy use:  29284.468724693055\n"
     ]
    },
    {
     "ename": "NameError",
     "evalue": "name 'predicted_EUR_2025_ls' is not defined",
     "output_type": "error",
     "traceback": [
      "\u001b[0;31m---------------------------------------------------------------------------\u001b[0m",
      "\u001b[0;31mNameError\u001b[0m                                 Traceback (most recent call last)",
      "Cell \u001b[0;32mIn[21], line 11\u001b[0m\n\u001b[1;32m      8\u001b[0m predicted_EURO_2025_ls \u001b[38;5;241m=\u001b[39m predict(\u001b[38;5;241m2025\u001b[39m, coeff_EURO)\n\u001b[1;32m     10\u001b[0m \u001b[38;5;28mprint\u001b[39m(\u001b[38;5;124m\"\u001b[39m\u001b[38;5;124mPredicted 2025 US energy use: \u001b[39m\u001b[38;5;124m\"\u001b[39m,predicted_US_2025_ls)\n\u001b[0;32m---> 11\u001b[0m \u001b[38;5;28mprint\u001b[39m(\u001b[38;5;124m\"\u001b[39m\u001b[38;5;124mPredicted 2025 EURO energy use: \u001b[39m\u001b[38;5;124m\"\u001b[39m,\u001b[43mpredicted_EUR_2025_ls\u001b[49m)\n",
      "\u001b[0;31mNameError\u001b[0m: name 'predicted_EUR_2025_ls' is not defined"
     ]
    }
   ],
   "source": [
    "#Part c (b?)\n",
    "\n",
    "def predict(x, coeff):\n",
    "    return coeff[0] * x + coeff[1]\n",
    "\n",
    "# Predictions for 2025 for both US and Europe using the least-squares regression model\n",
    "predicted_US_2025_ls = predict(2025, coeff_US)\n",
    "predicted_EURO_2025_ls = predict(2025, coeff_EURO)\n",
    "\n",
    "print(\"Predicted 2025 US energy use: \",predicted_US_2025_ls)\n",
    "print(\"Predicted 2025 EURO energy use: \",predicted_EUR_2025_ls)"
   ]
  }
 ],
 "metadata": {
  "jupytext": {
   "formats": "notebooks//ipynb,md:myst",
   "text_representation": {
    "extension": ".md",
    "format_name": "myst",
    "format_version": 0.13,
    "jupytext_version": "1.11.4"
   }
  },
  "kernelspec": {
   "display_name": "Python 3 (ipykernel)",
   "language": "python",
   "name": "python3"
  },
  "language_info": {
   "codemirror_mode": {
    "name": "ipython",
    "version": 3
   },
   "file_extension": ".py",
   "mimetype": "text/x-python",
   "name": "python",
   "nbconvert_exporter": "python",
   "pygments_lexer": "ipython3",
   "version": "3.9.18"
  },
  "source_map": [
   13,
   63,
   71,
   91,
   129,
   150,
   187,
   204,
   216,
   223,
   232,
   248,
   265,
   301,
   321,
   349,
   374,
   388,
   401,
   434,
   477,
   498,
   510,
   535,
   545,
   555,
   565,
   583,
   595,
   623
  ]
 },
 "nbformat": 4,
 "nbformat_minor": 5
}